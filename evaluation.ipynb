{
 "cells": [
  {
   "cell_type": "code",
   "execution_count": 1,
   "id": "807e714e4b469b",
   "metadata": {
    "collapsed": false,
    "ExecuteTime": {
     "end_time": "2023-10-27T22:10:07.185467100Z",
     "start_time": "2023-10-27T22:10:07.172461900Z"
    }
   },
   "outputs": [],
   "source": [
    "import time\n",
    "import warnings\n",
    "# warnings.filterwarnings(\"ignore\", message=\"Maximum Likelihood optimization failed to\", category=UserWarning)\n",
    "# warnings.filterwarnings(\"ignore\", message=\"overflow encountered in exp\", category=RuntimeWarning)\n",
    "warnings.filterwarnings(\"ignore\", category=UserWarning)"
   ]
  },
  {
   "cell_type": "code",
   "execution_count": 2,
   "outputs": [
    {
     "name": "stdout",
     "output_type": "stream",
     "text": [
      "Evaluation start\n"
     ]
    }
   ],
   "source": [
    "# start = time.time()\n",
    "print(\"Evaluation start\")"
   ],
   "metadata": {
    "collapsed": false,
    "ExecuteTime": {
     "end_time": "2023-10-27T22:10:07.255493900Z",
     "start_time": "2023-10-27T22:10:07.186479600Z"
    }
   },
   "id": "ad0b9137cd057a4a"
  },
  {
   "cell_type": "code",
   "execution_count": 3,
   "outputs": [],
   "source": [
    "%load_ext autoreload\n",
    "%autoreload 2"
   ],
   "metadata": {
    "collapsed": false,
    "ExecuteTime": {
     "end_time": "2023-10-27T22:10:07.294463300Z",
     "start_time": "2023-10-27T22:10:07.217513300Z"
    }
   },
   "id": "d2ab4ae843cc9a6e"
  },
  {
   "cell_type": "code",
   "execution_count": 4,
   "id": "initial_id",
   "metadata": {
    "ExecuteTime": {
     "end_time": "2023-10-27T22:10:09.319848100Z",
     "start_time": "2023-10-27T22:10:07.278456600Z"
    }
   },
   "outputs": [],
   "source": [
    "import data_operations as d\n",
    "import ML_operations as ml"
   ]
  },
  {
   "cell_type": "markdown",
   "source": [
    "## Initialise instances of DataSet classes"
   ],
   "metadata": {
    "collapsed": false
   },
   "id": "74e61981908376e4"
  },
  {
   "cell_type": "code",
   "execution_count": 5,
   "id": "e5d5e9d3945bb089",
   "metadata": {
    "collapsed": false,
    "ExecuteTime": {
     "end_time": "2023-10-27T22:10:09.443298100Z",
     "start_time": "2023-10-27T22:10:09.320849400Z"
    }
   },
   "outputs": [],
   "source": [
    "d1 = d.DataSet1()\n",
    "d2 = d.DataSet2()\n",
    "d3 = d.DataSet3()\n",
    "d4 = d.DataSet4()"
   ]
  },
  {
   "cell_type": "markdown",
   "source": [
    "## Preprocess datasets using different scalers types"
   ],
   "metadata": {
    "collapsed": false
   },
   "id": "26f1a0355acd530e"
  },
  {
   "cell_type": "markdown",
   "source": [
    "DataSet1"
   ],
   "metadata": {
    "collapsed": false
   },
   "id": "333c492f67d36ab1"
  },
  {
   "cell_type": "code",
   "execution_count": 6,
   "id": "e6b65284a67bb9e3",
   "metadata": {
    "collapsed": false,
    "ExecuteTime": {
     "end_time": "2023-10-27T22:10:09.642318600Z",
     "start_time": "2023-10-27T22:10:09.446343400Z"
    }
   },
   "outputs": [],
   "source": [
    "d1_standard = d1.preprocess_data(scaler_type='StandardScaler')\n",
    "d1_min_max = d1.preprocess_data(scaler_type='MinMaxScaler')\n",
    "d1_robust = d1.preprocess_data(scaler_type='RobustScaler')\n",
    "d1_normalizer = d1.preprocess_data(scaler_type='Normalizer')\n",
    "\n",
    "ds1 = [d1_standard, d1_min_max, d1_robust, d1_normalizer]\n",
    "ds1_as_str = [\"d1_standard\", 'd1_min_max', 'd1_robust', 'd1_normalizer']"
   ]
  },
  {
   "cell_type": "markdown",
   "source": [
    "DataSet2"
   ],
   "metadata": {
    "collapsed": false
   },
   "id": "b66c95151cff6bfb"
  },
  {
   "cell_type": "code",
   "execution_count": 27,
   "outputs": [],
   "source": [
    "d2_standard = d2.preprocess_data(scaler_type='StandardScaler')\n",
    "d2_min_max = d2.preprocess_data(scaler_type='MinMaxScaler')\n",
    "d2_robust = d2.preprocess_data(scaler_type='RobustScaler')\n",
    "d2_normalizer = d2.preprocess_data(scaler_type='Normalizer')\n",
    "\n",
    "ds2 = [d2_standard, d2_min_max, d2_robust, d2_normalizer]"
   ],
   "metadata": {
    "collapsed": false,
    "ExecuteTime": {
     "end_time": "2023-10-25T18:39:50.416708400Z",
     "start_time": "2023-10-25T18:39:48.263008800Z"
    }
   },
   "id": "de67f98f8043f403"
  },
  {
   "cell_type": "markdown",
   "source": [
    "DataSet3"
   ],
   "metadata": {
    "collapsed": false
   },
   "id": "96117a2addc6ce14"
  },
  {
   "cell_type": "code",
   "execution_count": 28,
   "outputs": [],
   "source": [
    "d3_standard = d3.preprocess_data(scaler_type='StandardScaler')\n",
    "d3_min_max = d3.preprocess_data(scaler_type='MinMaxScaler')\n",
    "d3_robust = d3.preprocess_data(scaler_type='RobustScaler')\n",
    "d3_normalizer = d3.preprocess_data(scaler_type='Normalizer')\n",
    "\n",
    "ds3 = [d3_standard, d3_min_max , d3_robust, d3_normalizer]"
   ],
   "metadata": {
    "collapsed": false,
    "ExecuteTime": {
     "end_time": "2023-10-25T18:39:50.588894300Z",
     "start_time": "2023-10-25T18:39:50.418687100Z"
    }
   },
   "id": "5732a2755971026d"
  },
  {
   "cell_type": "markdown",
   "source": [
    "DataSet4"
   ],
   "metadata": {
    "collapsed": false
   },
   "id": "ffe3608d1e7c7293"
  },
  {
   "cell_type": "code",
   "execution_count": 29,
   "outputs": [
    {
     "ename": "KeyError",
     "evalue": "'cb_father'",
     "output_type": "error",
     "traceback": [
      "\u001B[1;31m---------------------------------------------------------------------------\u001B[0m",
      "\u001B[1;31mKeyError\u001B[0m                                  Traceback (most recent call last)",
      "File \u001B[1;32m~\\PycharmProjects\\Methods_of_selecting_variables_in_logistic_regression_models\\venv\\lib\\site-packages\\pandas\\core\\indexes\\base.py:3652\u001B[0m, in \u001B[0;36mIndex.get_loc\u001B[1;34m(self, key)\u001B[0m\n\u001B[0;32m   3651\u001B[0m \u001B[38;5;28;01mtry\u001B[39;00m:\n\u001B[1;32m-> 3652\u001B[0m     \u001B[38;5;28;01mreturn\u001B[39;00m \u001B[38;5;28;43mself\u001B[39;49m\u001B[38;5;241;43m.\u001B[39;49m\u001B[43m_engine\u001B[49m\u001B[38;5;241;43m.\u001B[39;49m\u001B[43mget_loc\u001B[49m\u001B[43m(\u001B[49m\u001B[43mcasted_key\u001B[49m\u001B[43m)\u001B[49m\n\u001B[0;32m   3653\u001B[0m \u001B[38;5;28;01mexcept\u001B[39;00m \u001B[38;5;167;01mKeyError\u001B[39;00m \u001B[38;5;28;01mas\u001B[39;00m err:\n",
      "File \u001B[1;32m~\\PycharmProjects\\Methods_of_selecting_variables_in_logistic_regression_models\\venv\\lib\\site-packages\\pandas\\_libs\\index.pyx:147\u001B[0m, in \u001B[0;36mpandas._libs.index.IndexEngine.get_loc\u001B[1;34m()\u001B[0m\n",
      "File \u001B[1;32m~\\PycharmProjects\\Methods_of_selecting_variables_in_logistic_regression_models\\venv\\lib\\site-packages\\pandas\\_libs\\index.pyx:176\u001B[0m, in \u001B[0;36mpandas._libs.index.IndexEngine.get_loc\u001B[1;34m()\u001B[0m\n",
      "File \u001B[1;32mpandas\\_libs\\hashtable_class_helper.pxi:7080\u001B[0m, in \u001B[0;36mpandas._libs.hashtable.PyObjectHashTable.get_item\u001B[1;34m()\u001B[0m\n",
      "File \u001B[1;32mpandas\\_libs\\hashtable_class_helper.pxi:7088\u001B[0m, in \u001B[0;36mpandas._libs.hashtable.PyObjectHashTable.get_item\u001B[1;34m()\u001B[0m\n",
      "\u001B[1;31mKeyError\u001B[0m: 'cb_father'",
      "\nThe above exception was the direct cause of the following exception:\n",
      "\u001B[1;31mKeyError\u001B[0m                                  Traceback (most recent call last)",
      "Cell \u001B[1;32mIn[29], line 1\u001B[0m\n\u001B[1;32m----> 1\u001B[0m d4_train_standard \u001B[38;5;241m=\u001B[39m \u001B[43md4\u001B[49m\u001B[38;5;241;43m.\u001B[39;49m\u001B[43mpreprocess_train_data\u001B[49m\u001B[43m(\u001B[49m\u001B[43mscaler_type\u001B[49m\u001B[38;5;241;43m=\u001B[39;49m\u001B[38;5;124;43m'\u001B[39;49m\u001B[38;5;124;43mStandardScaler\u001B[39;49m\u001B[38;5;124;43m'\u001B[39;49m\u001B[43m)\u001B[49m\n\u001B[0;32m      2\u001B[0m d4_test_standard \u001B[38;5;241m=\u001B[39m d4\u001B[38;5;241m.\u001B[39mpreprocess_test_data(scaler_type\u001B[38;5;241m=\u001B[39m\u001B[38;5;124m'\u001B[39m\u001B[38;5;124mStandardScaler\u001B[39m\u001B[38;5;124m'\u001B[39m)\n\u001B[0;32m      3\u001B[0m d4_train_min_max \u001B[38;5;241m=\u001B[39m d4\u001B[38;5;241m.\u001B[39mpreprocess_train_data(scaler_type\u001B[38;5;241m=\u001B[39m\u001B[38;5;124m'\u001B[39m\u001B[38;5;124mMinMaxScaler\u001B[39m\u001B[38;5;124m'\u001B[39m)\n",
      "File \u001B[1;32m~\\PycharmProjects\\Methods_of_selecting_variables_in_logistic_regression_models\\data_operations.py:214\u001B[0m, in \u001B[0;36mDataSet4.preprocess_train_data\u001B[1;34m(self, scaler_type)\u001B[0m\n\u001B[0;32m    210\u001B[0m X \u001B[38;5;241m=\u001B[39m X\u001B[38;5;241m.\u001B[39mreplace([\u001B[38;5;124m'\u001B[39m\u001B[38;5;124mNot in universe\u001B[39m\u001B[38;5;124m'\u001B[39m, \u001B[38;5;124m'\u001B[39m\u001B[38;5;124m?\u001B[39m\u001B[38;5;124m'\u001B[39m, \u001B[38;5;124m'\u001B[39m\u001B[38;5;124mNot in universe or children\u001B[39m\u001B[38;5;124m'\u001B[39m, \u001B[38;5;124m'\u001B[39m\u001B[38;5;124mDo not know\u001B[39m\u001B[38;5;124m'\u001B[39m,\n\u001B[0;32m    211\u001B[0m                \u001B[38;5;124m'\u001B[39m\u001B[38;5;124mNot in universe under 1 year old\u001B[39m\u001B[38;5;124m'\u001B[39m, \u001B[38;5;124m'\u001B[39m\u001B[38;5;124mNA\u001B[39m\u001B[38;5;124m'\u001B[39m], np\u001B[38;5;241m.\u001B[39mnan)\n\u001B[0;32m    213\u001B[0m \u001B[38;5;28;01mfor\u001B[39;00m column \u001B[38;5;129;01min\u001B[39;00m [\u001B[38;5;124m'\u001B[39m\u001B[38;5;124mhispanic_Origin\u001B[39m\u001B[38;5;124m'\u001B[39m, \u001B[38;5;124m'\u001B[39m\u001B[38;5;124mcb_father\u001B[39m\u001B[38;5;124m'\u001B[39m, \u001B[38;5;124m'\u001B[39m\u001B[38;5;124mcbirth_mother\u001B[39m\u001B[38;5;124m'\u001B[39m, \u001B[38;5;124m'\u001B[39m\u001B[38;5;124mcb_self\u001B[39m\u001B[38;5;124m'\u001B[39m]:\n\u001B[1;32m--> 214\u001B[0m     \u001B[43mX\u001B[49m\u001B[43m[\u001B[49m\u001B[43mcolumn\u001B[49m\u001B[43m]\u001B[49m\u001B[38;5;241m.\u001B[39mfillna(X[column]\u001B[38;5;241m.\u001B[39mmode()[\u001B[38;5;241m0\u001B[39m], inplace\u001B[38;5;241m=\u001B[39m\u001B[38;5;28;01mTrue\u001B[39;00m)\n\u001B[0;32m    216\u001B[0m X[\u001B[38;5;124m\"\u001B[39m\u001B[38;5;124mcap_gain\u001B[39m\u001B[38;5;124m\"\u001B[39m] \u001B[38;5;241m=\u001B[39m np\u001B[38;5;241m.\u001B[39mwhere(X[\u001B[38;5;124m'\u001B[39m\u001B[38;5;124mcapital_gains\u001B[39m\u001B[38;5;124m'\u001B[39m] \u001B[38;5;241m>\u001B[39m \u001B[38;5;241m0\u001B[39m, \u001B[38;5;241m1\u001B[39m, \u001B[38;5;241m0\u001B[39m)\n\u001B[0;32m    217\u001B[0m X[\u001B[38;5;124m\"\u001B[39m\u001B[38;5;124mcap_loss\u001B[39m\u001B[38;5;124m\"\u001B[39m] \u001B[38;5;241m=\u001B[39m np\u001B[38;5;241m.\u001B[39mwhere(X[\u001B[38;5;124m'\u001B[39m\u001B[38;5;124mcapital_losses\u001B[39m\u001B[38;5;124m'\u001B[39m] \u001B[38;5;241m>\u001B[39m \u001B[38;5;241m0\u001B[39m, \u001B[38;5;241m1\u001B[39m, \u001B[38;5;241m0\u001B[39m)\n",
      "File \u001B[1;32m~\\PycharmProjects\\Methods_of_selecting_variables_in_logistic_regression_models\\venv\\lib\\site-packages\\pandas\\core\\frame.py:3761\u001B[0m, in \u001B[0;36mDataFrame.__getitem__\u001B[1;34m(self, key)\u001B[0m\n\u001B[0;32m   3759\u001B[0m \u001B[38;5;28;01mif\u001B[39;00m \u001B[38;5;28mself\u001B[39m\u001B[38;5;241m.\u001B[39mcolumns\u001B[38;5;241m.\u001B[39mnlevels \u001B[38;5;241m>\u001B[39m \u001B[38;5;241m1\u001B[39m:\n\u001B[0;32m   3760\u001B[0m     \u001B[38;5;28;01mreturn\u001B[39;00m \u001B[38;5;28mself\u001B[39m\u001B[38;5;241m.\u001B[39m_getitem_multilevel(key)\n\u001B[1;32m-> 3761\u001B[0m indexer \u001B[38;5;241m=\u001B[39m \u001B[38;5;28;43mself\u001B[39;49m\u001B[38;5;241;43m.\u001B[39;49m\u001B[43mcolumns\u001B[49m\u001B[38;5;241;43m.\u001B[39;49m\u001B[43mget_loc\u001B[49m\u001B[43m(\u001B[49m\u001B[43mkey\u001B[49m\u001B[43m)\u001B[49m\n\u001B[0;32m   3762\u001B[0m \u001B[38;5;28;01mif\u001B[39;00m is_integer(indexer):\n\u001B[0;32m   3763\u001B[0m     indexer \u001B[38;5;241m=\u001B[39m [indexer]\n",
      "File \u001B[1;32m~\\PycharmProjects\\Methods_of_selecting_variables_in_logistic_regression_models\\venv\\lib\\site-packages\\pandas\\core\\indexes\\base.py:3654\u001B[0m, in \u001B[0;36mIndex.get_loc\u001B[1;34m(self, key)\u001B[0m\n\u001B[0;32m   3652\u001B[0m     \u001B[38;5;28;01mreturn\u001B[39;00m \u001B[38;5;28mself\u001B[39m\u001B[38;5;241m.\u001B[39m_engine\u001B[38;5;241m.\u001B[39mget_loc(casted_key)\n\u001B[0;32m   3653\u001B[0m \u001B[38;5;28;01mexcept\u001B[39;00m \u001B[38;5;167;01mKeyError\u001B[39;00m \u001B[38;5;28;01mas\u001B[39;00m err:\n\u001B[1;32m-> 3654\u001B[0m     \u001B[38;5;28;01mraise\u001B[39;00m \u001B[38;5;167;01mKeyError\u001B[39;00m(key) \u001B[38;5;28;01mfrom\u001B[39;00m \u001B[38;5;21;01merr\u001B[39;00m\n\u001B[0;32m   3655\u001B[0m \u001B[38;5;28;01mexcept\u001B[39;00m \u001B[38;5;167;01mTypeError\u001B[39;00m:\n\u001B[0;32m   3656\u001B[0m     \u001B[38;5;66;03m# If we have a listlike key, _check_indexing_error will raise\u001B[39;00m\n\u001B[0;32m   3657\u001B[0m     \u001B[38;5;66;03m#  InvalidIndexError. Otherwise we fall through and re-raise\u001B[39;00m\n\u001B[0;32m   3658\u001B[0m     \u001B[38;5;66;03m#  the TypeError.\u001B[39;00m\n\u001B[0;32m   3659\u001B[0m     \u001B[38;5;28mself\u001B[39m\u001B[38;5;241m.\u001B[39m_check_indexing_error(key)\n",
      "\u001B[1;31mKeyError\u001B[0m: 'cb_father'"
     ]
    }
   ],
   "source": [
    "d4_train_standard = d4.preprocess_train_data(scaler_type='StandardScaler')\n",
    "d4_test_standard = d4.preprocess_test_data(scaler_type='StandardScaler')\n",
    "d4_train_min_max = d4.preprocess_train_data(scaler_type='MinMaxScaler')\n",
    "d4_test_min_max = d4.preprocess_test_data(scaler_type='MinMaxScaler')\n",
    "d4_train_robust = d4.preprocess_train_data(scaler_type='RobustScaler')\n",
    "d4_test_robust = d4.preprocess_test_data(scaler_type='RobustScaler')\n",
    "d4_train_normalizer = d4.preprocess_train_data(scaler_type='Normalizer')\n",
    "d4_test_normalizer = d4.preprocess_test_data(scaler_type='Normalizer')\n",
    "\n",
    "ds4_train = [d4_train_standard, d4_train_min_max, d4_train_robust, d4_train_normalizer]\n",
    "ds4_test = [d4_test_standard, d4_test_min_max, d4_test_robust, d4_test_normalizer]"
   ],
   "metadata": {
    "collapsed": false,
    "ExecuteTime": {
     "end_time": "2023-10-25T18:39:53.003086200Z",
     "start_time": "2023-10-25T18:39:50.592886700Z"
    }
   },
   "id": "d817c4b35171edb4"
  },
  {
   "cell_type": "markdown",
   "source": [
    "## Initialise instances of machine learning classes"
   ],
   "metadata": {
    "collapsed": false
   },
   "id": "a4d0db8a9698ef6b"
  },
  {
   "cell_type": "markdown",
   "source": [
    "Selected Metrics"
   ],
   "metadata": {
    "collapsed": false
   },
   "id": "c8ae550e92da1f13"
  },
  {
   "cell_type": "code",
   "execution_count": 7,
   "outputs": [],
   "source": [
    "selected_metrics = ml.SelectedMetrics()"
   ],
   "metadata": {
    "collapsed": false,
    "ExecuteTime": {
     "end_time": "2023-10-27T22:10:14.283355Z",
     "start_time": "2023-10-27T22:10:14.151309Z"
    }
   },
   "id": "8bc76c81b021bca8"
  },
  {
   "cell_type": "markdown",
   "source": [
    "Forward Stepwise Selection"
   ],
   "metadata": {
    "collapsed": false
   },
   "id": "efc939ce40d10e05"
  },
  {
   "cell_type": "code",
   "execution_count": 8,
   "id": "c2eec2db85d27647",
   "metadata": {
    "collapsed": false,
    "ExecuteTime": {
     "end_time": "2023-10-27T22:10:14.751621300Z",
     "start_time": "2023-10-27T22:10:14.621589100Z"
    }
   },
   "outputs": [],
   "source": [
    "fss_aic = ml.ForwardStepwiseSelection(model_criterion='AIC', feature_criterion='p_value')\n",
    "fss_bic = ml.ForwardStepwiseSelection(model_criterion='BIC', feature_criterion='p_value')\n",
    "fss_pseudo_R = ml.ForwardStepwiseSelection(model_criterion='pseudo_R_square', feature_criterion='p_value') "
   ]
  },
  {
   "cell_type": "markdown",
   "source": [
    "Backward Stepwise Selection"
   ],
   "metadata": {
    "collapsed": false
   },
   "id": "73c24b9a7a9b6b7c"
  },
  {
   "cell_type": "code",
   "execution_count": 9,
   "id": "f6f36def5f3f8de8",
   "metadata": {
    "collapsed": false,
    "ExecuteTime": {
     "end_time": "2023-10-27T22:10:15.169993100Z",
     "start_time": "2023-10-27T22:10:15.056964200Z"
    }
   },
   "outputs": [],
   "source": [
    "bss_aic = ml.BackwardStepwiseSelection(model_criterion='AIC', feature_criterion='p_value')\n",
    "bss_bic = ml.BackwardStepwiseSelection(model_criterion='BIC', feature_criterion='p_value')\n",
    "bss_pseudo_R = ml.BackwardStepwiseSelection(model_criterion='pseudo_R_square', feature_criterion='p_value') "
   ]
  },
  {
   "cell_type": "markdown",
   "source": [
    "Lasso Logistic Regression"
   ],
   "metadata": {
    "collapsed": false
   },
   "id": "8109889e319df1ad"
  },
  {
   "cell_type": "code",
   "execution_count": 10,
   "id": "440868d440959582",
   "metadata": {
    "collapsed": false,
    "ExecuteTime": {
     "end_time": "2023-10-27T22:10:15.630186700Z",
     "start_time": "2023-10-27T22:10:15.510295300Z"
    }
   },
   "outputs": [],
   "source": [
    "lasso = ml.Lasso()"
   ]
  },
  {
   "cell_type": "markdown",
   "source": [
    "Cross Validation"
   ],
   "metadata": {
    "collapsed": false
   },
   "id": "5265746f13513515"
  },
  {
   "cell_type": "code",
   "execution_count": 11,
   "id": "2b500f4e0c8323b7",
   "metadata": {
    "collapsed": false,
    "ExecuteTime": {
     "end_time": "2023-10-27T22:10:16.269082100Z",
     "start_time": "2023-10-27T22:10:16.166868300Z"
    }
   },
   "outputs": [],
   "source": [
    "cross_val = ml.CrossValidation()"
   ]
  },
  {
   "cell_type": "markdown",
   "source": [
    "Feature Permutation"
   ],
   "metadata": {
    "collapsed": false
   },
   "id": "cf35937cef1d83db"
  },
  {
   "cell_type": "code",
   "execution_count": 12,
   "id": "f70e72dac014d7ed",
   "metadata": {
    "collapsed": false,
    "ExecuteTime": {
     "end_time": "2023-10-27T22:10:17.901497600Z",
     "start_time": "2023-10-27T22:10:17.783080300Z"
    }
   },
   "outputs": [],
   "source": [
    "feature_perm = ml.FeaturePermutation()"
   ]
  },
  {
   "cell_type": "markdown",
   "source": [
    "Brute Force"
   ],
   "metadata": {
    "collapsed": false
   },
   "id": "e469e0b933f32ea8"
  },
  {
   "cell_type": "code",
   "execution_count": 13,
   "outputs": [],
   "source": [
    "brute_force = ml.BruteForce(criterion_val=0.05)"
   ],
   "metadata": {
    "collapsed": false,
    "ExecuteTime": {
     "end_time": "2023-10-27T22:10:18.795149200Z",
     "start_time": "2023-10-27T22:10:18.666083800Z"
    }
   },
   "id": "e923f604c60ba108"
  },
  {
   "cell_type": "code",
   "execution_count": 14,
   "outputs": [],
   "source": [
    "## aggregate selection methods names in list\n",
    "ml = [fss_aic, fss_bic, fss_aic, bss_aic, bss_bic, bss_pseudo_R, cross_val, lasso, feature_perm, brute_force]\n",
    "ml_as_string = ['fss_AIC', 'fss_BIC', 'fss_pseudo_R_square', 'bss_AIC', 'bss_BIC', 'bss_pseudo_R_square', 'cross_validation', \"lasso\", \"feature_permutation\", 'brute_force']"
   ],
   "metadata": {
    "collapsed": false,
    "ExecuteTime": {
     "end_time": "2023-10-27T22:10:19.333820300Z",
     "start_time": "2023-10-27T22:10:19.224818600Z"
    }
   },
   "id": "3115aa336ec25dac"
  },
  {
   "cell_type": "code",
   "execution_count": 15,
   "outputs": [
    {
     "name": "stdout",
     "output_type": "stream",
     "text": [
      "Evaluation start\n"
     ]
    }
   ],
   "source": [
    "start = time.time()\n",
    "print(\"Evaluation start\")"
   ],
   "metadata": {
    "collapsed": false,
    "ExecuteTime": {
     "end_time": "2023-10-27T22:10:20.563004900Z",
     "start_time": "2023-10-27T22:10:20.427261200Z"
    }
   },
   "id": "6ae5d44f8cb89ea6"
  },
  {
   "cell_type": "code",
   "execution_count": 16,
   "outputs": [
    {
     "name": "stdout",
     "output_type": "stream",
     "text": [
      "working on data set: d1_standard\n",
      "working on model: fss_AIC\n",
      "Cannot select better subset using AIC\n",
      "Cannot select better subset using AIC\n",
      "Cannot select better subset using AIC\n",
      "Cannot select better subset using AIC\n",
      "Cannot select better subset using AIC\n",
      "Cannot select better subset using AIC\n",
      "Cannot select better subset using AIC\n",
      "Cannot select better subset using AIC\n",
      "Cannot select better subset using AIC\n",
      "Cannot select better subset using AIC\n",
      "Cannot select better subset using AIC\n",
      "Cannot select better subset using AIC\n",
      "Cannot select better subset using AIC\n",
      "Cannot select better subset using AIC\n",
      "Cannot select better subset using AIC\n",
      "Cannot select better subset using AIC\n",
      "best_subset: [24, 21, 17, 23, 18, 19, 16, 22, 20]\n",
      "746 8 44 21\n",
      "working on model: fss_BIC\n",
      "Cannot select better subset using BIC\n",
      "Cannot select better subset using BIC\n",
      "Cannot select better subset using BIC\n",
      "Cannot select better subset using BIC\n",
      "Cannot select better subset using BIC\n",
      "Cannot select better subset using BIC\n",
      "Cannot select better subset using BIC\n",
      "Cannot select better subset using BIC\n",
      "Cannot select better subset using BIC\n",
      "Cannot select better subset using BIC\n",
      "Cannot select better subset using BIC\n",
      "Cannot select better subset using BIC\n",
      "Cannot select better subset using BIC\n",
      "Cannot select better subset using BIC\n",
      "Cannot select better subset using BIC\n",
      "Cannot select better subset using BIC\n",
      "Cannot select better subset using BIC\n",
      "Cannot select better subset using BIC\n",
      "best_subset: [24, 21, 17, 23, 18, 19]\n",
      "754 0 57 8\n",
      "working on model: fss_pseudo_R_square\n",
      "Cannot select better subset using AIC\n",
      "Cannot select better subset using AIC\n",
      "Cannot select better subset using AIC\n",
      "Cannot select better subset using AIC\n",
      "Cannot select better subset using AIC\n",
      "Cannot select better subset using AIC\n",
      "Cannot select better subset using AIC\n",
      "Cannot select better subset using AIC\n",
      "Cannot select better subset using AIC\n",
      "Cannot select better subset using AIC\n",
      "Cannot select better subset using AIC\n",
      "Cannot select better subset using AIC\n",
      "Cannot select better subset using AIC\n",
      "Cannot select better subset using AIC\n",
      "Cannot select better subset using AIC\n",
      "Cannot select better subset using AIC\n",
      "best_subset: [24, 21, 17, 23, 18, 19, 16, 22, 20]\n",
      "746 8 44 21\n",
      "working on model: bss_AIC\n",
      "24\n",
      "23\n",
      "22\n",
      "21\n",
      "20\n",
      "19\n",
      "18\n",
      "17\n",
      "16\n",
      "15\n",
      "14\n",
      "13\n",
      "12\n",
      "11\n",
      "10\n",
      "9\n",
      "Cannot select better subset using AIC\n",
      "8\n",
      "Cannot select better subset using AIC\n",
      "7\n",
      "Cannot select better subset using AIC\n",
      "6\n",
      "5\n",
      "Cannot select better subset using AIC\n",
      "4\n",
      "Cannot select better subset using AIC\n",
      "3\n",
      "Cannot select better subset using AIC\n",
      "2\n",
      "Cannot select better subset using AIC\n",
      "1\n"
     ]
    },
    {
     "ename": "ValueError",
     "evalue": "attempt to get argmax of an empty sequence",
     "output_type": "error",
     "traceback": [
      "\u001B[1;31m---------------------------------------------------------------------------\u001B[0m",
      "\u001B[1;31mValueError\u001B[0m                                Traceback (most recent call last)",
      "Cell \u001B[1;32mIn[16], line 14\u001B[0m\n\u001B[0;32m     12\u001B[0m     model_performance \u001B[38;5;241m=\u001B[39m model\u001B[38;5;241m.\u001B[39meval_cross_validation_train(data_set)\n\u001B[0;32m     13\u001B[0m \u001B[38;5;28;01melse\u001B[39;00m:\n\u001B[1;32m---> 14\u001B[0m     model_performance \u001B[38;5;241m=\u001B[39m \u001B[43mmodel\u001B[49m\u001B[38;5;241;43m.\u001B[39;49m\u001B[43mevaluate_model\u001B[49m\u001B[43m(\u001B[49m\u001B[43mdata_set\u001B[49m\u001B[43m)\u001B[49m\n\u001B[0;32m     16\u001B[0m selected_metrics\u001B[38;5;241m.\u001B[39mappend_metrics(data_set\u001B[38;5;241m=\u001B[39mdata_set_name,\n\u001B[0;32m     17\u001B[0m                                 selection_method\u001B[38;5;241m=\u001B[39mmodel_name,\n\u001B[0;32m     18\u001B[0m                                 metrics_df\u001B[38;5;241m=\u001B[39mmodel_performance)\n",
      "File \u001B[1;32m~\\PycharmProjects\\Methods_of_selecting_variables_in_logistic_regression_models\\ML_operations.py:543\u001B[0m, in \u001B[0;36mBackwardStepwiseSelection.evaluate_model\u001B[1;34m(self, df, df_pre_split, pre_split)\u001B[0m\n\u001B[0;32m    538\u001B[0m \u001B[38;5;28;01mdef\u001B[39;00m \u001B[38;5;21mevaluate_model\u001B[39m(\u001B[38;5;28mself\u001B[39m,\n\u001B[0;32m    539\u001B[0m                    df: pd\u001B[38;5;241m.\u001B[39mDataFrame(),\n\u001B[0;32m    540\u001B[0m                    df_pre_split: pd\u001B[38;5;241m.\u001B[39mDataFrame() \u001B[38;5;241m=\u001B[39m \u001B[38;5;28;01mNone\u001B[39;00m,\n\u001B[0;32m    541\u001B[0m                    pre_split: \u001B[38;5;28mbool\u001B[39m \u001B[38;5;241m=\u001B[39m \u001B[38;5;28;01mNone\u001B[39;00m):\n\u001B[1;32m--> 543\u001B[0m     X_train, X_test, y_train, y_test, best_subset \u001B[38;5;241m=\u001B[39m \u001B[38;5;28;43mself\u001B[39;49m\u001B[38;5;241;43m.\u001B[39;49m\u001B[43mselect_subset\u001B[49m\u001B[43m(\u001B[49m\u001B[43mdf\u001B[49m\u001B[38;5;241;43m=\u001B[39;49m\u001B[43mdf\u001B[49m\u001B[43m,\u001B[49m\n\u001B[0;32m    544\u001B[0m \u001B[43m                                                                       \u001B[49m\u001B[43mdf_pre_split\u001B[49m\u001B[38;5;241;43m=\u001B[39;49m\u001B[43mdf_pre_split\u001B[49m\u001B[43m,\u001B[49m\n\u001B[0;32m    545\u001B[0m \u001B[43m                                                                       \u001B[49m\u001B[43mpre_split\u001B[49m\u001B[38;5;241;43m=\u001B[39;49m\u001B[43mpre_split\u001B[49m\u001B[43m)\u001B[49m\n\u001B[0;32m    546\u001B[0m \u001B[38;5;250m    \u001B[39m\u001B[38;5;124;03m\"\"\"\u001B[39;00m\n\u001B[0;32m    547\u001B[0m \u001B[38;5;124;03m    best_subset = self.logs_df[\"Selected_features\"].loc[\u001B[39;00m\n\u001B[0;32m    548\u001B[0m \u001B[38;5;124;03m        self.logs_df[\"Model_criterion_value\"].idxmax() if self.logs_df[\"Model_criterion\"].iloc[\u001B[39;00m\n\u001B[1;32m   (...)\u001B[0m\n\u001B[0;32m    551\u001B[0m \u001B[38;5;124;03m    ]\u001B[39;00m\n\u001B[0;32m    552\u001B[0m \u001B[38;5;124;03m    \"\"\"\u001B[39;00m\n\u001B[0;32m    553\u001B[0m     \u001B[38;5;28mprint\u001B[39m(\u001B[38;5;124mf\u001B[39m\u001B[38;5;124m\"\u001B[39m\u001B[38;5;124mbest_subset: \u001B[39m\u001B[38;5;132;01m{\u001B[39;00mbest_subset\u001B[38;5;132;01m}\u001B[39;00m\u001B[38;5;124m\"\u001B[39m)\n",
      "File \u001B[1;32m~\\PycharmProjects\\Methods_of_selecting_variables_in_logistic_regression_models\\ML_operations.py:381\u001B[0m, in \u001B[0;36mBackwardStepwiseSelection.select_subset\u001B[1;34m(self, df, df_pre_split, pre_split)\u001B[0m\n\u001B[0;32m    375\u001B[0m \u001B[38;5;66;03m# print(f\"init best model score: {best_model_score}\")\u001B[39;00m\n\u001B[0;32m    377\u001B[0m \u001B[38;5;28;01mwhile\u001B[39;00m remaining_features:\n\u001B[0;32m    378\u001B[0m     \u001B[38;5;66;03m# print(f\"selected features: {selected_features}\")\u001B[39;00m\n\u001B[0;32m    379\u001B[0m     \u001B[38;5;66;03m# print(f\"remaining features: {remaining_features}\")\u001B[39;00m\n\u001B[1;32m--> 381\u001B[0m     feature, score \u001B[38;5;241m=\u001B[39m \u001B[38;5;28;43mself\u001B[39;49m\u001B[38;5;241;43m.\u001B[39;49m\u001B[43mfeature_criterion_eval\u001B[49m\u001B[43m(\u001B[49m\u001B[43mX_train\u001B[49m\u001B[43m,\u001B[49m\n\u001B[0;32m    382\u001B[0m \u001B[43m                                                 \u001B[49m\u001B[43my_train\u001B[49m\u001B[43m,\u001B[49m\n\u001B[0;32m    383\u001B[0m \u001B[43m                                                 \u001B[49m\u001B[43mselected_features\u001B[49m\u001B[43m,\u001B[49m\n\u001B[0;32m    384\u001B[0m \u001B[43m                                                 \u001B[49m\u001B[43mnot_dropped_features\u001B[49m\u001B[43m)\u001B[49m\n\u001B[0;32m    386\u001B[0m     \u001B[38;5;66;03m#  X_subset_with_best_feature_added = X_train[selected_features + [int(feature)]]\u001B[39;00m\n\u001B[0;32m    388\u001B[0m     best_model_score, selected_features, remaining_features, \\\n\u001B[0;32m    389\u001B[0m         not_dropped_features \u001B[38;5;241m=\u001B[39m \u001B[38;5;28mself\u001B[39m\u001B[38;5;241m.\u001B[39mmodel_criterion_eval(y\u001B[38;5;241m=\u001B[39my_train,\n\u001B[0;32m    390\u001B[0m                                                          X_train\u001B[38;5;241m=\u001B[39mX_train,\n\u001B[1;32m   (...)\u001B[0m\n\u001B[0;32m    394\u001B[0m                                                          not_dropped_features\u001B[38;5;241m=\u001B[39mnot_dropped_features,\n\u001B[0;32m    395\u001B[0m                                                          feature\u001B[38;5;241m=\u001B[39mfeature)\n",
      "File \u001B[1;32m~\\PycharmProjects\\Methods_of_selecting_variables_in_logistic_regression_models\\ML_operations.py:455\u001B[0m, in \u001B[0;36mBackwardStepwiseSelection.feature_criterion_eval\u001B[1;34m(self, X_train, y_train, selected_features, not_dropped_features)\u001B[0m\n\u001B[0;32m    448\u001B[0m         scores_dict \u001B[38;5;241m=\u001B[39m pd\u001B[38;5;241m.\u001B[39mconcat([scores_dict, new_row_df], ignore_index\u001B[38;5;241m=\u001B[39m\u001B[38;5;28;01mTrue\u001B[39;00m)\n\u001B[0;32m    450\u001B[0m \u001B[38;5;66;03m# pd.set_option('display.float_format', '{:.2f}'.format)\u001B[39;00m\n\u001B[0;32m    451\u001B[0m \u001B[38;5;66;03m# DO NAPRAWY\u001B[39;00m\n\u001B[1;32m--> 455\u001B[0m id_max \u001B[38;5;241m=\u001B[39m \u001B[43mscores_dict\u001B[49m\u001B[43m[\u001B[49m\u001B[38;5;124;43m'\u001B[39;49m\u001B[38;5;124;43mscores\u001B[39;49m\u001B[38;5;124;43m'\u001B[39;49m\u001B[43m]\u001B[49m\u001B[38;5;241;43m.\u001B[39;49m\u001B[43midxmax\u001B[49m\u001B[43m(\u001B[49m\u001B[43maxis\u001B[49m\u001B[38;5;241;43m=\u001B[39;49m\u001B[38;5;241;43m0\u001B[39;49m\u001B[43m)\u001B[49m\n\u001B[0;32m    457\u001B[0m \u001B[38;5;66;03m# print(id_min)\u001B[39;00m\n\u001B[0;32m    458\u001B[0m \u001B[38;5;28;01mreturn\u001B[39;00m scores_dict[\u001B[38;5;124m'\u001B[39m\u001B[38;5;124mcolumns\u001B[39m\u001B[38;5;124m'\u001B[39m][id_max], scores_dict[\u001B[38;5;124m'\u001B[39m\u001B[38;5;124mscores\u001B[39m\u001B[38;5;124m'\u001B[39m][id_max]\n",
      "File \u001B[1;32m~\\PycharmProjects\\Methods_of_selecting_variables_in_logistic_regression_models\\venv\\lib\\site-packages\\pandas\\core\\series.py:2531\u001B[0m, in \u001B[0;36mSeries.idxmax\u001B[1;34m(self, axis, skipna, *args, **kwargs)\u001B[0m\n\u001B[0;32m   2466\u001B[0m \u001B[38;5;250m\u001B[39m\u001B[38;5;124;03m\"\"\"\u001B[39;00m\n\u001B[0;32m   2467\u001B[0m \u001B[38;5;124;03mReturn the row label of the maximum value.\u001B[39;00m\n\u001B[0;32m   2468\u001B[0m \n\u001B[1;32m   (...)\u001B[0m\n\u001B[0;32m   2527\u001B[0m \u001B[38;5;124;03mnan\u001B[39;00m\n\u001B[0;32m   2528\u001B[0m \u001B[38;5;124;03m\"\"\"\u001B[39;00m\n\u001B[0;32m   2529\u001B[0m \u001B[38;5;66;03m# error: Argument 1 to \"argmax\" of \"IndexOpsMixin\" has incompatible type\u001B[39;00m\n\u001B[0;32m   2530\u001B[0m \u001B[38;5;66;03m# \"Union[int, Literal['index', 'columns']]\"; expected \"Optional[int]\"\u001B[39;00m\n\u001B[1;32m-> 2531\u001B[0m i \u001B[38;5;241m=\u001B[39m \u001B[38;5;28mself\u001B[39m\u001B[38;5;241m.\u001B[39margmax(axis, skipna, \u001B[38;5;241m*\u001B[39margs, \u001B[38;5;241m*\u001B[39m\u001B[38;5;241m*\u001B[39mkwargs)  \u001B[38;5;66;03m# type: ignore[arg-type]\u001B[39;00m\n\u001B[0;32m   2532\u001B[0m \u001B[38;5;28;01mif\u001B[39;00m i \u001B[38;5;241m==\u001B[39m \u001B[38;5;241m-\u001B[39m\u001B[38;5;241m1\u001B[39m:\n\u001B[0;32m   2533\u001B[0m     \u001B[38;5;28;01mreturn\u001B[39;00m np\u001B[38;5;241m.\u001B[39mnan\n",
      "File \u001B[1;32m~\\PycharmProjects\\Methods_of_selecting_variables_in_logistic_regression_models\\venv\\lib\\site-packages\\pandas\\core\\base.py:678\u001B[0m, in \u001B[0;36mIndexOpsMixin.argmax\u001B[1;34m(self, axis, skipna, *args, **kwargs)\u001B[0m\n\u001B[0;32m    674\u001B[0m         \u001B[38;5;28;01mreturn\u001B[39;00m delegate\u001B[38;5;241m.\u001B[39margmax()\n\u001B[0;32m    675\u001B[0m \u001B[38;5;28;01melse\u001B[39;00m:\n\u001B[0;32m    676\u001B[0m     \u001B[38;5;66;03m# error: Incompatible return value type (got \"Union[int, ndarray]\", expected\u001B[39;00m\n\u001B[0;32m    677\u001B[0m     \u001B[38;5;66;03m# \"int\")\u001B[39;00m\n\u001B[1;32m--> 678\u001B[0m     \u001B[38;5;28;01mreturn\u001B[39;00m \u001B[43mnanops\u001B[49m\u001B[38;5;241;43m.\u001B[39;49m\u001B[43mnanargmax\u001B[49m\u001B[43m(\u001B[49m\u001B[43m  \u001B[49m\u001B[38;5;66;43;03m# type: ignore[return-value]\u001B[39;49;00m\n\u001B[0;32m    679\u001B[0m \u001B[43m        \u001B[49m\u001B[43mdelegate\u001B[49m\u001B[43m,\u001B[49m\u001B[43m \u001B[49m\u001B[43mskipna\u001B[49m\u001B[38;5;241;43m=\u001B[39;49m\u001B[43mskipna\u001B[49m\n\u001B[0;32m    680\u001B[0m \u001B[43m    \u001B[49m\u001B[43m)\u001B[49m\n",
      "File \u001B[1;32m~\\PycharmProjects\\Methods_of_selecting_variables_in_logistic_regression_models\\venv\\lib\\site-packages\\pandas\\core\\nanops.py:96\u001B[0m, in \u001B[0;36mdisallow.__call__.<locals>._f\u001B[1;34m(*args, **kwargs)\u001B[0m\n\u001B[0;32m     94\u001B[0m \u001B[38;5;28;01mtry\u001B[39;00m:\n\u001B[0;32m     95\u001B[0m     \u001B[38;5;28;01mwith\u001B[39;00m np\u001B[38;5;241m.\u001B[39merrstate(invalid\u001B[38;5;241m=\u001B[39m\u001B[38;5;124m\"\u001B[39m\u001B[38;5;124mignore\u001B[39m\u001B[38;5;124m\"\u001B[39m):\n\u001B[1;32m---> 96\u001B[0m         \u001B[38;5;28;01mreturn\u001B[39;00m f(\u001B[38;5;241m*\u001B[39margs, \u001B[38;5;241m*\u001B[39m\u001B[38;5;241m*\u001B[39mkwargs)\n\u001B[0;32m     97\u001B[0m \u001B[38;5;28;01mexcept\u001B[39;00m \u001B[38;5;167;01mValueError\u001B[39;00m \u001B[38;5;28;01mas\u001B[39;00m e:\n\u001B[0;32m     98\u001B[0m     \u001B[38;5;66;03m# we want to transform an object array\u001B[39;00m\n\u001B[0;32m     99\u001B[0m     \u001B[38;5;66;03m# ValueError message to the more typical TypeError\u001B[39;00m\n\u001B[0;32m    100\u001B[0m     \u001B[38;5;66;03m# e.g. this is normally a disallowed function on\u001B[39;00m\n\u001B[0;32m    101\u001B[0m     \u001B[38;5;66;03m# object arrays that contain strings\u001B[39;00m\n\u001B[0;32m    102\u001B[0m     \u001B[38;5;28;01mif\u001B[39;00m is_object_dtype(args[\u001B[38;5;241m0\u001B[39m]):\n",
      "File \u001B[1;32m~\\PycharmProjects\\Methods_of_selecting_variables_in_logistic_regression_models\\venv\\lib\\site-packages\\pandas\\core\\nanops.py:1147\u001B[0m, in \u001B[0;36mnanargmax\u001B[1;34m(values, axis, skipna, mask)\u001B[0m\n\u001B[0;32m   1145\u001B[0m values, mask, _, _, _ \u001B[38;5;241m=\u001B[39m _get_values(values, \u001B[38;5;28;01mTrue\u001B[39;00m, fill_value_typ\u001B[38;5;241m=\u001B[39m\u001B[38;5;124m\"\u001B[39m\u001B[38;5;124m-inf\u001B[39m\u001B[38;5;124m\"\u001B[39m, mask\u001B[38;5;241m=\u001B[39mmask)\n\u001B[0;32m   1146\u001B[0m \u001B[38;5;66;03m# error: Need type annotation for 'result'\u001B[39;00m\n\u001B[1;32m-> 1147\u001B[0m result \u001B[38;5;241m=\u001B[39m \u001B[43mvalues\u001B[49m\u001B[38;5;241;43m.\u001B[39;49m\u001B[43margmax\u001B[49m\u001B[43m(\u001B[49m\u001B[43maxis\u001B[49m\u001B[43m)\u001B[49m  \u001B[38;5;66;03m# type: ignore[var-annotated]\u001B[39;00m\n\u001B[0;32m   1148\u001B[0m result \u001B[38;5;241m=\u001B[39m _maybe_arg_null_out(result, axis, mask, skipna)\n\u001B[0;32m   1149\u001B[0m \u001B[38;5;28;01mreturn\u001B[39;00m result\n",
      "\u001B[1;31mValueError\u001B[0m: attempt to get argmax of an empty sequence"
     ]
    }
   ],
   "source": [
    "\n",
    "for data_set_name, data_set in zip(ds1_as_str, ds1):\n",
    "    \n",
    "    print(f'working on data set: {data_set_name}')\n",
    "    \n",
    "    for model_name, model in zip(ml_as_string, ml): \n",
    "        \n",
    "        print(f'working on model: {model_name}')\n",
    "        \n",
    "        if model_name == \"lasso\":\n",
    "            model_performance = model.perform_lasso_logistic_regression(data_set)\n",
    "        elif model_name == 'cross_validation':\n",
    "            model_performance = model.eval_cross_validation_train(data_set)\n",
    "        else:\n",
    "            model_performance = model.evaluate_model(data_set)\n",
    "        \n",
    "        selected_metrics.append_metrics(data_set=data_set_name,\n",
    "                                        selection_method=model_name,\n",
    "                                        metrics_df=model_performance)"
   ],
   "metadata": {
    "collapsed": false,
    "ExecuteTime": {
     "end_time": "2023-10-27T22:11:01.577883400Z",
     "start_time": "2023-10-27T22:10:21.777958500Z"
    }
   },
   "id": "c4ac799a5bd55a1e"
  },
  {
   "cell_type": "code",
   "execution_count": null,
   "outputs": [],
   "source": [
    "end = time.time()\n",
    "print(f\"Evaluation exec time: {end - start}\")"
   ],
   "metadata": {
    "collapsed": false,
    "ExecuteTime": {
     "end_time": "2023-10-27T22:11:01.586967900Z",
     "start_time": "2023-10-27T22:11:01.578994Z"
    }
   },
   "id": "b87e993f9aa7d23e"
  },
  {
   "cell_type": "code",
   "execution_count": null,
   "outputs": [],
   "source": [],
   "metadata": {
    "collapsed": false,
    "ExecuteTime": {
     "start_time": "2023-10-25T18:39:53.021086900Z"
    }
   },
   "id": "aa83e4a7e3b89332"
  }
 ],
 "metadata": {
  "kernelspec": {
   "display_name": "Python 3 (ipykernel)",
   "language": "python",
   "name": "python3"
  },
  "language_info": {
   "codemirror_mode": {
    "name": "ipython",
    "version": 3
   },
   "file_extension": ".py",
   "mimetype": "text/x-python",
   "name": "python",
   "nbconvert_exporter": "python",
   "pygments_lexer": "ipython3",
   "version": "3.9.13"
  }
 },
 "nbformat": 4,
 "nbformat_minor": 5
}
