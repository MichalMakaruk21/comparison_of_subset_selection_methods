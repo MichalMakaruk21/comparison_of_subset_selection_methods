{
 "cells": [
  {
   "cell_type": "code",
   "execution_count": null,
   "id": "807e714e4b469b",
   "metadata": {
    "collapsed": false
   },
   "outputs": [],
   "source": [
    "import warnings\n",
    "# warnings.filterwarnings(\"ignore\", message=\"Maximum Likelihood optimization failed to\", category=UserWarning)\n",
    "# warnings.filterwarnings(\"ignore\", message=\"overflow encountered in exp\", category=RuntimeWarning)\n",
    "warnings.filterwarnings(\"ignore\", category=UserWarning)"
   ]
  },
  {
   "cell_type": "code",
   "execution_count": null,
   "id": "initial_id",
   "metadata": {},
   "outputs": [],
   "source": [
    "import data_operations as d\n",
    "import ML_operations as ml"
   ]
  },
  {
   "cell_type": "markdown",
   "source": [
    "## Initialise instances of DataSet classes"
   ],
   "metadata": {
    "collapsed": false
   },
   "id": "74e61981908376e4"
  },
  {
   "cell_type": "code",
   "execution_count": null,
   "id": "e5d5e9d3945bb089",
   "metadata": {
    "collapsed": false
   },
   "outputs": [],
   "source": [
    "d1 = d.DataSet1()\n",
    "d2 = d.DataSet2()\n",
    "d3 = d.DataSet3()\n",
    "d4 = d.DataSet4()"
   ]
  },
  {
   "cell_type": "markdown",
   "source": [
    "## Preprocess datasets using different scalers types"
   ],
   "metadata": {
    "collapsed": false
   },
   "id": "26f1a0355acd530e"
  },
  {
   "cell_type": "markdown",
   "source": [
    "Stanard Scaler"
   ],
   "metadata": {
    "collapsed": false
   },
   "id": "333c492f67d36ab1"
  },
  {
   "cell_type": "code",
   "execution_count": null,
   "id": "e6b65284a67bb9e3",
   "metadata": {
    "collapsed": false
   },
   "outputs": [],
   "source": [
    "d1_standard = d1.preprocess_data(scaler_type='StandardScaler')\n",
    "d2_standard = d2.preprocess_data(scaler_type='StandardScaler')\n",
    "d3_standard = d3.preprocess_data(scaler_type='StandardScaler')\n",
    "d4_standard = d4.preprocess_data(scaler_type='StandardScaler')"
   ]
  },
  {
   "cell_type": "markdown",
   "source": [
    "MinMaxScaler"
   ],
   "metadata": {
    "collapsed": false
   },
   "id": "b66c95151cff6bfb"
  },
  {
   "cell_type": "code",
   "execution_count": null,
   "outputs": [],
   "source": [
    "d1_min_max = d1.preprocess_data(scaler_type='MinMaxScaler')\n",
    "d2_min_max = d2.preprocess_data(scaler_type='MinMaxScaler')\n",
    "d3_min_max = d3.preprocess_data(scaler_type='MinMaxScaler')\n",
    "d4_min_max = d4.preprocess_data(scaler_type='MinMaxScaler')"
   ],
   "metadata": {
    "collapsed": false
   },
   "id": "de67f98f8043f403"
  },
  {
   "cell_type": "markdown",
   "source": [
    "RobustScaler"
   ],
   "metadata": {
    "collapsed": false
   },
   "id": "96117a2addc6ce14"
  },
  {
   "cell_type": "code",
   "execution_count": null,
   "outputs": [],
   "source": [
    "d1_robust = d1.preprocess_data(scaler_type='RobustScaler')\n",
    "d2_robust = d2.preprocess_data(scaler_type='RobustScaler')\n",
    "d3_robust = d3.preprocess_data(scaler_type='RobustScaler')\n",
    "d4_robust = d4.preprocess_data(scaler_type='RobustScaler')"
   ],
   "metadata": {
    "collapsed": false
   },
   "id": "5732a2755971026d"
  },
  {
   "cell_type": "markdown",
   "source": [
    "Normalizer"
   ],
   "metadata": {
    "collapsed": false
   },
   "id": "ffe3608d1e7c7293"
  },
  {
   "cell_type": "code",
   "execution_count": null,
   "outputs": [],
   "source": [
    "d1_normalizer = d1.preprocess_data(scaler_type='Normalizer')\n",
    "d2_normalizer = d2.preprocess_data(scaler_type='Normalizer')\n",
    "d3_normalizer = d3.preprocess_data(scaler_type='Normalizer')\n",
    "d4_normalizer = d4.preprocess_data(scaler_type='Normalizer')"
   ],
   "metadata": {
    "collapsed": false
   },
   "id": "d817c4b35171edb4"
  },
  {
   "cell_type": "markdown",
   "source": [],
   "metadata": {
    "collapsed": false
   },
   "id": "a4d0db8a9698ef6b"
  },
  {
   "cell_type": "code",
   "execution_count": null,
   "id": "c2eec2db85d27647",
   "metadata": {
    "collapsed": false
   },
   "outputs": [],
   "source": [
    "# fss = ml.ForwardStepwiseSelection(model_criterion='AIC', feature_criterion='p_value')\n",
    "# forward_subset_selection_ds1 = fss.evaluate_model(sample_dataset)"
   ]
  },
  {
   "cell_type": "code",
   "execution_count": null,
   "id": "f6f36def5f3f8de8",
   "metadata": {
    "collapsed": false
   },
   "outputs": [],
   "source": [
    "bss = ml.BackwardStepwiseSelection(model_criterion='AIC', feature_criterion='p_value')\n"
   ]
  },
  {
   "cell_type": "code",
   "execution_count": null,
   "id": "440868d440959582",
   "metadata": {
    "collapsed": false
   },
   "outputs": [],
   "source": []
  },
  {
   "cell_type": "code",
   "execution_count": null,
   "id": "2b500f4e0c8323b7",
   "metadata": {
    "collapsed": false
   },
   "outputs": [],
   "source": []
  },
  {
   "cell_type": "code",
   "execution_count": null,
   "id": "f70e72dac014d7ed",
   "metadata": {
    "collapsed": false
   },
   "outputs": [],
   "source": []
  },
  {
   "cell_type": "code",
   "execution_count": null,
   "id": "7c75177f2aa1d0dd",
   "metadata": {
    "collapsed": false
   },
   "outputs": [],
   "source": []
  }
 ],
 "metadata": {
  "kernelspec": {
   "display_name": "Python 3 (ipykernel)",
   "language": "python",
   "name": "python3"
  },
  "language_info": {
   "codemirror_mode": {
    "name": "ipython",
    "version": 3
   },
   "file_extension": ".py",
   "mimetype": "text/x-python",
   "name": "python",
   "nbconvert_exporter": "python",
   "pygments_lexer": "ipython3",
   "version": "3.9.13"
  }
 },
 "nbformat": 4,
 "nbformat_minor": 5
}
