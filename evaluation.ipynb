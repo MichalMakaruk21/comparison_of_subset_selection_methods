{
 "cells": [
  {
   "cell_type": "code",
   "execution_count": 1,
   "id": "807e714e4b469b",
   "metadata": {
    "collapsed": false,
    "ExecuteTime": {
     "end_time": "2023-10-28T22:36:06.829935100Z",
     "start_time": "2023-10-28T22:36:06.774428500Z"
    }
   },
   "outputs": [],
   "source": [
    "import time\n",
    "import warnings\n",
    "# warnings.filterwarnings(\"ignore\", message=\"Maximum Likelihood optimization failed to\", category=UserWarning)\n",
    "# warnings.filterwarnings(\"ignore\", message=\"overflow encountered in exp\", category=RuntimeWarning)\n",
    "warnings.filterwarnings(\"ignore\", category=UserWarning)"
   ]
  },
  {
   "cell_type": "code",
   "execution_count": 2,
   "outputs": [
    {
     "name": "stdout",
     "output_type": "stream",
     "text": [
      "Evaluation start\n"
     ]
    }
   ],
   "source": [
    "# start = time.time()\n",
    "print(\"Evaluation start\")"
   ],
   "metadata": {
    "collapsed": false,
    "ExecuteTime": {
     "end_time": "2023-10-28T22:36:06.832939300Z",
     "start_time": "2023-10-28T22:36:06.789431700Z"
    }
   },
   "id": "ad0b9137cd057a4a"
  },
  {
   "cell_type": "code",
   "execution_count": 3,
   "outputs": [],
   "source": [
    "%load_ext autoreload\n",
    "%autoreload 2"
   ],
   "metadata": {
    "collapsed": false,
    "ExecuteTime": {
     "end_time": "2023-10-28T22:36:06.853940100Z",
     "start_time": "2023-10-28T22:36:06.803427200Z"
    }
   },
   "id": "d2ab4ae843cc9a6e"
  },
  {
   "cell_type": "code",
   "execution_count": 4,
   "id": "initial_id",
   "metadata": {
    "ExecuteTime": {
     "end_time": "2023-10-28T22:36:09.901139600Z",
     "start_time": "2023-10-28T22:36:06.851951100Z"
    }
   },
   "outputs": [],
   "source": [
    "import data_operations as d\n",
    "import ML_operations as ml"
   ]
  },
  {
   "cell_type": "markdown",
   "source": [
    "## Initialise instances of DataSet classes"
   ],
   "metadata": {
    "collapsed": false
   },
   "id": "74e61981908376e4"
  },
  {
   "cell_type": "code",
   "execution_count": 5,
   "id": "e5d5e9d3945bb089",
   "metadata": {
    "collapsed": false,
    "ExecuteTime": {
     "end_time": "2023-10-28T22:36:09.994664800Z",
     "start_time": "2023-10-28T22:36:09.901139600Z"
    }
   },
   "outputs": [],
   "source": [
    "d1 = d.DataSet1()\n",
    "d2 = d.DataSet2()\n",
    "d3 = d.DataSet3()\n",
    "d4 = d.DataSet4()"
   ]
  },
  {
   "cell_type": "markdown",
   "source": [
    "## Preprocess datasets using different scalers types"
   ],
   "metadata": {
    "collapsed": false
   },
   "id": "26f1a0355acd530e"
  },
  {
   "cell_type": "markdown",
   "source": [
    "DataSet1"
   ],
   "metadata": {
    "collapsed": false
   },
   "id": "333c492f67d36ab1"
  },
  {
   "cell_type": "code",
   "execution_count": 6,
   "id": "e6b65284a67bb9e3",
   "metadata": {
    "collapsed": false,
    "ExecuteTime": {
     "end_time": "2023-10-28T22:36:10.168046100Z",
     "start_time": "2023-10-28T22:36:09.996664300Z"
    }
   },
   "outputs": [],
   "source": [
    "d1_standard = d1.preprocess_data(scaler_type='StandardScaler')\n",
    "d1_min_max = d1.preprocess_data(scaler_type='MinMaxScaler')\n",
    "d1_robust = d1.preprocess_data(scaler_type='RobustScaler')\n",
    "d1_normalizer = d1.preprocess_data(scaler_type='Normalizer')\n",
    "\n",
    "ds1 = [d1_standard, d1_min_max, d1_robust, d1_normalizer]\n",
    "ds1_as_str = [\"d1_standard\", 'd1_min_max', 'd1_robust', 'd1_normalizer']"
   ]
  },
  {
   "cell_type": "markdown",
   "source": [
    "DataSet2"
   ],
   "metadata": {
    "collapsed": false
   },
   "id": "b66c95151cff6bfb"
  },
  {
   "cell_type": "code",
   "execution_count": null,
   "outputs": [],
   "source": [
    "d2_standard = d2.preprocess_data(scaler_type='StandardScaler')\n",
    "d2_min_max = d2.preprocess_data(scaler_type='MinMaxScaler')\n",
    "d2_robust = d2.preprocess_data(scaler_type='RobustScaler')\n",
    "d2_normalizer = d2.preprocess_data(scaler_type='Normalizer')\n",
    "\n",
    "ds2 = [d2_standard, d2_min_max, d2_robust, d2_normalizer]\n",
    "ds2_as_str = [\"d2_standard\", 'd2_min_max', 'd2_robust', 'd2_normalizer']"
   ],
   "metadata": {
    "collapsed": false,
    "ExecuteTime": {
     "start_time": "2023-10-28T04:40:12.887658900Z"
    }
   },
   "id": "de67f98f8043f403"
  },
  {
   "cell_type": "markdown",
   "source": [
    "DataSet3"
   ],
   "metadata": {
    "collapsed": false
   },
   "id": "96117a2addc6ce14"
  },
  {
   "cell_type": "code",
   "execution_count": 6,
   "outputs": [],
   "source": [
    "d3_standard = d3.preprocess_data(scaler_type='StandardScaler')\n",
    "d3_min_max = d3.preprocess_data(scaler_type='MinMaxScaler')\n",
    "d3_robust = d3.preprocess_data(scaler_type='RobustScaler')\n",
    "d3_normalizer = d3.preprocess_data(scaler_type='Normalizer')\n",
    "\n",
    "ds3 = [d3_standard, d3_min_max , d3_robust, d3_normalizer]\n",
    "ds3_as_str = ['d3_standard', 'd3_min_max' , 'd3_robust', 'd3_normalizer']"
   ],
   "metadata": {
    "collapsed": false,
    "ExecuteTime": {
     "end_time": "2023-10-28T14:13:04.420435Z",
     "start_time": "2023-10-28T14:13:04.272683100Z"
    }
   },
   "id": "5732a2755971026d"
  },
  {
   "cell_type": "markdown",
   "source": [
    "DataSet4"
   ],
   "metadata": {
    "collapsed": false
   },
   "id": "ffe3608d1e7c7293"
  },
  {
   "cell_type": "code",
   "execution_count": 6,
   "outputs": [
    {
     "name": "stdout",
     "output_type": "stream",
     "text": [
      "27\n",
      "preprocess_finished\n",
      "27\n",
      "preprocess_finished\n",
      "27\n",
      "preprocess_finished\n",
      "27\n",
      "preprocess_finished\n"
     ]
    }
   ],
   "source": [
    "# d4_train_standard = d4.preprocess_train_data(scaler_type='StandardScaler')\n",
    "# d4_test_standard = d4.preprocess_test_data(scaler_type='StandardScaler')\n",
    "d4_train_min_max = d4.preprocess_train_data(scaler_type='MinMaxScaler')\n",
    "d4_test_min_max = d4.preprocess_test_data(scaler_type='MinMaxScaler')\n",
    "d4_train_robust = d4.preprocess_train_data(scaler_type='RobustScaler')\n",
    "d4_test_robust = d4.preprocess_test_data(scaler_type='RobustScaler')\n",
    "d4_train_normalizer = d4.preprocess_train_data(scaler_type='Normalizer')\n",
    "d4_test_normalizer = d4.preprocess_test_data(scaler_type='Normalizer')\n",
    "\n",
    "# ds4_as_str = ['d4_standard', 'd4_min_max', 'd4_robust', 'd4_normalizer']\n",
    "# ds4_train = [d4_train_standard, d4_train_min_max, d4_train_robust, d4_train_normalizer]\n",
    "# ds4_test = [d4_test_standard, d4_test_min_max, d4_test_robust, d4_test_normalizer]\n",
    "ds4_as_str = ['d4_min_max', 'd4_robust', 'd4_normalizer']\n",
    "ds4_train = [ d4_train_min_max, d4_train_robust, d4_train_normalizer]\n",
    "ds4_test = [d4_test_min_max, d4_test_robust, d4_test_normalizer]"
   ],
   "metadata": {
    "collapsed": false,
    "ExecuteTime": {
     "end_time": "2023-10-28T05:38:09.622794400Z",
     "start_time": "2023-10-28T05:37:46.820923400Z"
    }
   },
   "id": "d817c4b35171edb4"
  },
  {
   "cell_type": "markdown",
   "source": [
    "## Initialise instances of machine learning classes"
   ],
   "metadata": {
    "collapsed": false
   },
   "id": "a4d0db8a9698ef6b"
  },
  {
   "cell_type": "code",
   "execution_count": 7,
   "outputs": [],
   "source": [
    "# Selected Metrics\n",
    "selected_metrics = ml.SelectedMetrics()\n",
    "\n",
    "# Forward Stepwise Selection\n",
    "fss_aic = ml.ForwardStepwiseSelection(model_criterion='AIC', feature_criterion='p_value')\n",
    "fss_bic = ml.ForwardStepwiseSelection(model_criterion='BIC', feature_criterion='p_value')\n",
    "fss_pseudo_R = ml.ForwardStepwiseSelection(model_criterion='pseudo_R_square', feature_criterion='p_value') \n",
    "\n",
    "# Backward Stepwise Selection\n",
    "# bss_aic = ml.BackwardStepwiseSelection(model_criterion='AIC', feature_criterion='p_value')\n",
    "# bss_bic = ml.BackwardStepwiseSelection(model_criterion='BIC', feature_criterion='p_value')\n",
    "# bss_pseudo_R = ml.BackwardStepwiseSelection(model_criterion='pseudo_R_square', feature_criterion='p_value') \n",
    "\n",
    "# Lasso Logistic Regression\n",
    "lasso = ml.Lasso()\n",
    "\n",
    "# Cross Validation\n",
    "cross_val = ml.CrossValidation()\n",
    "# Feature Permutation\n",
    "feature_perm = ml.FeaturePermutation()\n",
    "\n",
    "# Brute Force\n",
    "brute_force = ml.BruteForce(criterion_val=0.05)"
   ],
   "metadata": {
    "collapsed": false,
    "ExecuteTime": {
     "end_time": "2023-10-28T22:36:10.745947200Z",
     "start_time": "2023-10-28T22:36:10.626896300Z"
    }
   },
   "id": "8bc76c81b021bca8"
  },
  {
   "cell_type": "markdown",
   "source": [],
   "metadata": {
    "collapsed": false
   },
   "id": "c7d5b7ea3ed5b356"
  },
  {
   "cell_type": "code",
   "execution_count": 14,
   "outputs": [],
   "source": [
    "## aggregate selection methods names in list\n",
    "# bss_aic, bss_bic, bss_pseudo_R,\n",
    "# ml = [fss_aic, fss_bic, fss_pseudo_R, cross_val, lasso, feature_perm, brute_force]\n",
    "# ml_as_string = ['fss_AIC', 'fss_BIC', 'fss_pseudo_R_square', 'cross_validation', \"lasso\", \"feature_permutation\", 'brute_force']"
   ],
   "metadata": {
    "collapsed": false,
    "ExecuteTime": {
     "end_time": "2023-10-28T02:27:34.699483800Z",
     "start_time": "2023-10-28T02:27:34.549482300Z"
    }
   },
   "id": "3115aa336ec25dac"
  },
  {
   "cell_type": "code",
   "execution_count": 8,
   "outputs": [
    {
     "name": "stdout",
     "output_type": "stream",
     "text": [
      "Evaluation start\n"
     ]
    }
   ],
   "source": [
    "start = time.time()\n",
    "print(\"Evaluation start\")"
   ],
   "metadata": {
    "collapsed": false,
    "ExecuteTime": {
     "end_time": "2023-10-28T22:36:15.059154900Z",
     "start_time": "2023-10-28T22:36:14.946633900Z"
    }
   },
   "id": "6ae5d44f8cb89ea6"
  },
  {
   "cell_type": "markdown",
   "source": [
    "First data set evaluation"
   ],
   "metadata": {
    "collapsed": false
   },
   "id": "a669bbcb66bdc440"
  },
  {
   "cell_type": "code",
   "execution_count": 9,
   "outputs": [
    {
     "name": "stdout",
     "output_type": "stream",
     "text": [
      "working on data set: d1_standard\n",
      "working on model: fss_AIC\n",
      "Cannot select better subset using AIC\n",
      "Cannot select better subset using AIC\n",
      "Cannot select better subset using AIC\n",
      "Cannot select better subset using AIC\n",
      "Cannot select better subset using AIC\n",
      "Cannot select better subset using AIC\n",
      "Cannot select better subset using AIC\n",
      "Cannot select better subset using AIC\n",
      "Cannot select better subset using AIC\n",
      "Cannot select better subset using AIC\n",
      "Cannot select better subset using AIC\n",
      "Cannot select better subset using AIC\n",
      "Cannot select better subset using AIC\n",
      "Cannot select better subset using AIC\n",
      "Cannot select better subset using AIC\n",
      "Cannot select better subset using AIC\n",
      "best_subset: [24, 21, 17, 23, 18, 19, 16, 22, 20]\n",
      "746 8 44 21\n",
      "working on model: fss_BIC\n",
      "Cannot select better subset using BIC\n",
      "Cannot select better subset using BIC\n",
      "Cannot select better subset using BIC\n",
      "Cannot select better subset using BIC\n",
      "Cannot select better subset using BIC\n",
      "Cannot select better subset using BIC\n",
      "Cannot select better subset using BIC\n",
      "Cannot select better subset using BIC\n",
      "Cannot select better subset using BIC\n",
      "Cannot select better subset using BIC\n",
      "Cannot select better subset using BIC\n",
      "Cannot select better subset using BIC\n",
      "Cannot select better subset using BIC\n",
      "Cannot select better subset using BIC\n",
      "Cannot select better subset using BIC\n",
      "Cannot select better subset using BIC\n",
      "Cannot select better subset using BIC\n",
      "Cannot select better subset using BIC\n",
      "best_subset: [24, 21, 17, 23, 18, 19]\n",
      "754 0 57 8\n",
      "working on model: fss_pseudo_R_square\n",
      "best_subset: [24, 21]\n",
      "754 0 57 8\n",
      "working on model: cross_validation\n",
      "working on model: lasso\n",
      "26\n",
      "746 8 43 22\n",
      "working on model: feature_permutation\n",
      "743 11 57 8\n",
      "working on model: brute_force\n",
      "754 0 65 0\n",
      "working on data set: d1_min_max\n",
      "working on model: fss_AIC\n",
      "Cannot select better subset using AIC\n",
      "Cannot select better subset using AIC\n",
      "Cannot select better subset using AIC\n",
      "Cannot select better subset using AIC\n",
      "Cannot select better subset using AIC\n",
      "Cannot select better subset using AIC\n",
      "Cannot select better subset using AIC\n",
      "Cannot select better subset using AIC\n",
      "Cannot select better subset using AIC\n",
      "Cannot select better subset using AIC\n",
      "Cannot select better subset using AIC\n",
      "Cannot select better subset using AIC\n",
      "Cannot select better subset using AIC\n",
      "Cannot select better subset using AIC\n",
      "Cannot select better subset using AIC\n",
      "best_subset: [24, 21, 17, 23, 18, 19, 16, 22, 20]\n",
      "754 0 44 21\n",
      "working on model: fss_BIC\n",
      "Cannot select better subset using BIC\n",
      "Cannot select better subset using BIC\n",
      "Cannot select better subset using BIC\n",
      "Cannot select better subset using BIC\n",
      "Cannot select better subset using BIC\n",
      "Cannot select better subset using BIC\n",
      "Cannot select better subset using BIC\n",
      "Cannot select better subset using BIC\n",
      "Cannot select better subset using BIC\n",
      "Cannot select better subset using BIC\n",
      "Cannot select better subset using BIC\n",
      "Cannot select better subset using BIC\n",
      "Cannot select better subset using BIC\n",
      "Cannot select better subset using BIC\n",
      "Cannot select better subset using BIC\n",
      "Cannot select better subset using BIC\n",
      "best_subset: [24, 21, 17, 18, 20, 19, 23, 22, 16]\n",
      "754 0 44 21\n",
      "working on model: fss_pseudo_R_square\n",
      "best_subset: [24, 21]\n",
      "754 0 57 8\n",
      "working on model: cross_validation\n",
      "working on model: lasso\n",
      "26\n",
      "746 8 44 21\n",
      "working on model: feature_permutation\n",
      "743 11 57 8\n",
      "working on model: brute_force\n",
      "754 0 44 21\n",
      "working on data set: d1_robust\n",
      "working on model: fss_AIC\n",
      "Cannot select better subset using AIC\n",
      "Cannot select better subset using AIC\n",
      "Cannot select better subset using AIC\n",
      "Cannot select better subset using AIC\n",
      "Cannot select better subset using AIC\n",
      "Cannot select better subset using AIC\n",
      "Cannot select better subset using AIC\n",
      "Cannot select better subset using AIC\n",
      "Cannot select better subset using AIC\n",
      "Cannot select better subset using AIC\n",
      "Cannot select better subset using AIC\n",
      "Cannot select better subset using AIC\n",
      "best_subset: [24, 21, 17, 23, 18, 19, 16, 22, 20]\n",
      "754 0 44 21\n",
      "working on model: fss_BIC\n",
      "Cannot select better subset using BIC\n",
      "Cannot select better subset using BIC\n",
      "Cannot select better subset using BIC\n",
      "Cannot select better subset using BIC\n",
      "Cannot select better subset using BIC\n",
      "Cannot select better subset using BIC\n",
      "Cannot select better subset using BIC\n",
      "Cannot select better subset using BIC\n",
      "Cannot select better subset using BIC\n",
      "Cannot select better subset using BIC\n",
      "Cannot select better subset using BIC\n",
      "Cannot select better subset using BIC\n",
      "best_subset: [2, 15, 1, 17, 21, 3, 23, 19, 18, 20, 22, 16, 24]\n",
      "753 1 44 21\n",
      "working on model: fss_pseudo_R_square\n",
      "best_subset: [2, 15]\n",
      "754 0 65 0\n",
      "working on model: cross_validation\n",
      "working on model: lasso\n",
      "26\n",
      "746 8 44 21\n",
      "working on model: feature_permutation\n",
      "754 0 57 8\n",
      "working on model: brute_force\n",
      "754 0 65 0\n",
      "working on data set: d1_normalizer\n",
      "working on model: fss_AIC\n",
      "Cannot select better subset using AIC\n",
      "Cannot select better subset using AIC\n",
      "Cannot select better subset using AIC\n",
      "Cannot select better subset using AIC\n",
      "Cannot select better subset using AIC\n",
      "Cannot select better subset using AIC\n",
      "Cannot select better subset using AIC\n",
      "Cannot select better subset using AIC\n",
      "Cannot select better subset using AIC\n",
      "Cannot select better subset using AIC\n",
      "Cannot select better subset using AIC\n",
      "Cannot select better subset using AIC\n",
      "Cannot select better subset using AIC\n",
      "Cannot select better subset using AIC\n",
      "Cannot select better subset using AIC\n",
      "Cannot select better subset using AIC\n",
      "best_subset: [24, 21, 17, 23, 18, 19, 16, 22, 20]\n",
      "754 0 65 0\n",
      "working on model: fss_BIC\n",
      "Cannot select better subset using BIC\n",
      "Cannot select better subset using BIC\n",
      "Cannot select better subset using BIC\n",
      "Cannot select better subset using BIC\n",
      "Cannot select better subset using BIC\n",
      "Cannot select better subset using BIC\n",
      "Cannot select better subset using BIC\n",
      "Cannot select better subset using BIC\n",
      "Cannot select better subset using BIC\n",
      "Cannot select better subset using BIC\n",
      "Cannot select better subset using BIC\n",
      "Cannot select better subset using BIC\n",
      "Cannot select better subset using BIC\n",
      "Cannot select better subset using BIC\n",
      "Cannot select better subset using BIC\n",
      "Cannot select better subset using BIC\n",
      "best_subset: [2, 15, 1, 17, 21, 3, 23, 19, 18, 20, 22, 16, 24]\n",
      "754 0 65 0\n",
      "working on model: fss_pseudo_R_square\n",
      "best_subset: [2, 15]\n",
      "754 0 65 0\n",
      "working on model: cross_validation\n",
      "working on model: lasso\n",
      "26\n",
      "754 0 65 0\n",
      "working on model: feature_permutation\n",
      "754 0 65 0\n",
      "working on model: brute_force\n",
      "754 0 65 0\n"
     ]
    }
   ],
   "source": [
    "ml = [fss_aic, fss_bic, fss_pseudo_R, cross_val, lasso, feature_perm, brute_force]\n",
    "ml_as_string = ['fss_AIC', 'fss_BIC', 'fss_pseudo_R_square', 'cross_validation', \"lasso\", \"feature_permutation\", 'brute_force']\n",
    "\n",
    "for data_set_name, data_set in zip(ds1_as_str, ds1):\n",
    "    \n",
    "    print(f'working on data set: {data_set_name}')\n",
    "    \n",
    "    for model_name, model in zip(ml_as_string, ml): \n",
    "        \n",
    "        print(f'working on model: {model_name}')\n",
    "        \n",
    "        if model_name == \"lasso\":\n",
    "            model_performance = model.perform_lasso_logistic_regression(data_set)\n",
    "        elif model_name == 'cross_validation':\n",
    "            model_performance = model.eval_cross_validation_train(data_set)\n",
    "        else:\n",
    "            model_performance = model.evaluate_model(data_set)\n",
    "        \n",
    "        selected_metrics.append_metrics(data_set=data_set_name,\n",
    "                                        selection_method=model_name,\n",
    "                                        metrics_df=model_performance)"
   ],
   "metadata": {
    "collapsed": false,
    "ExecuteTime": {
     "end_time": "2023-10-28T22:37:09.252016400Z",
     "start_time": "2023-10-28T22:36:15.830929100Z"
    }
   },
   "id": "c4ac799a5bd55a1e"
  },
  {
   "cell_type": "code",
   "execution_count": 10,
   "outputs": [
    {
     "name": "stdout",
     "output_type": "stream",
     "text": [
      "Evaluation of data_set 1 exec time: 0.9049966096878052 min\n"
     ]
    }
   ],
   "source": [
    "end = time.time()\n",
    "print(f\"Evaluation of data_set 1 exec time: {(end - start) / 60} min\")"
   ],
   "metadata": {
    "collapsed": false,
    "ExecuteTime": {
     "end_time": "2023-10-28T22:37:09.352448500Z",
     "start_time": "2023-10-28T22:37:09.252016400Z"
    }
   },
   "id": "ef46a7ae6eec30fa"
  },
  {
   "cell_type": "markdown",
   "source": [
    "Second data set evaluation"
   ],
   "metadata": {
    "collapsed": false
   },
   "id": "f5d9eeeefd3f7e0"
  },
  {
   "cell_type": "code",
   "execution_count": 16,
   "outputs": [
    {
     "name": "stdout",
     "output_type": "stream",
     "text": [
      "working on data set: d2_standard\n",
      "working on model: fss_AIC\n",
      "Cannot select better subset using AIC\n",
      "Cannot select better subset using AIC\n",
      "Cannot select better subset using AIC\n",
      "Cannot select better subset using AIC\n",
      "Cannot select better subset using AIC\n",
      "Cannot select better subset using AIC\n",
      "Cannot select better subset using AIC\n",
      "Cannot select better subset using AIC\n",
      "Cannot select better subset using AIC\n",
      "Cannot select better subset using AIC\n",
      "Cannot select better subset using AIC\n",
      "Cannot select better subset using AIC\n",
      "Cannot select better subset using AIC\n",
      "Cannot select better subset using AIC\n",
      "Cannot select better subset using AIC\n",
      "Cannot select better subset using AIC\n",
      "Cannot select better subset using AIC\n",
      "Cannot select better subset using AIC\n",
      "Cannot select better subset using AIC\n",
      "Cannot select better subset using AIC\n",
      "Cannot select better subset using AIC\n",
      "Cannot select better subset using AIC\n",
      "Cannot select better subset using AIC\n",
      "Cannot select better subset using AIC\n",
      "Cannot select better subset using AIC\n",
      "Cannot select better subset using AIC\n",
      "Cannot select better subset using AIC\n",
      "Cannot select better subset using AIC\n",
      "Cannot select better subset using AIC\n",
      "Cannot select better subset using AIC\n",
      "Cannot select better subset using AIC\n",
      "best_subset: [51, 56, 7, 47, 32, 12, 24, 38, 15, 2, 45, 40, 8, 43, 46, 11, 0, 6, 3, 34]\n",
      "2002 6 93 0\n",
      "working on model: fss_BIC\n",
      "Cannot select better subset using BIC\n",
      "Cannot select better subset using BIC\n",
      "Cannot select better subset using BIC\n",
      "Cannot select better subset using BIC\n",
      "Cannot select better subset using BIC\n",
      "Cannot select better subset using BIC\n",
      "Cannot select better subset using BIC\n",
      "Cannot select better subset using BIC\n",
      "Cannot select better subset using BIC\n",
      "Cannot select better subset using BIC\n",
      "Cannot select better subset using BIC\n",
      "Cannot select better subset using BIC\n",
      "Cannot select better subset using BIC\n",
      "Cannot select better subset using BIC\n",
      "Cannot select better subset using BIC\n",
      "Cannot select better subset using BIC\n",
      "Cannot select better subset using BIC\n",
      "Cannot select better subset using BIC\n",
      "Cannot select better subset using BIC\n",
      "Cannot select better subset using BIC\n",
      "Cannot select better subset using BIC\n",
      "Cannot select better subset using BIC\n",
      "Cannot select better subset using BIC\n",
      "Cannot select better subset using BIC\n",
      "Cannot select better subset using BIC\n",
      "Cannot select better subset using BIC\n",
      "Cannot select better subset using BIC\n",
      "Cannot select better subset using BIC\n",
      "Cannot select better subset using BIC\n",
      "Cannot select better subset using BIC\n",
      "Cannot select better subset using BIC\n",
      "Cannot select better subset using BIC\n",
      "Cannot select better subset using BIC\n",
      "Cannot select better subset using BIC\n",
      "best_subset: [51, 56, 7, 47, 32, 12, 24, 38, 15, 2, 45, 40, 8, 43, 11]\n",
      "2002 6 93 0\n",
      "working on model: fss_pseudo_R_square\n",
      "Cannot select better subset using pseudo R-square\n",
      "Cannot select better subset using pseudo R-square\n",
      "Cannot select better subset using pseudo R-square\n",
      "Cannot select better subset using pseudo R-square\n",
      "Cannot select better subset using pseudo R-square\n",
      "Cannot select better subset using pseudo R-square\n",
      "Cannot select better subset using pseudo R-square\n",
      "Cannot select better subset using pseudo R-square\n",
      "Cannot select better subset using pseudo R-square\n",
      "Cannot select better subset using pseudo R-square\n",
      "Cannot select better subset using pseudo R-square\n",
      "best_subset: [51, 56]\n",
      "2007 1 93 0\n",
      "working on model: cross_validation\n",
      "working on model: lasso\n",
      "2001 7 93 0\n",
      "working on model: feature_permutation\n",
      "2004 4 92 1\n",
      "working on data set: d2_min_max\n",
      "working on model: fss_AIC\n",
      "Cannot select better subset using AIC\n",
      "Cannot select better subset using AIC\n",
      "Cannot select better subset using AIC\n",
      "Cannot select better subset using AIC\n",
      "Cannot select better subset using AIC\n",
      "Cannot select better subset using AIC\n",
      "Cannot select better subset using AIC\n",
      "Cannot select better subset using AIC\n",
      "Cannot select better subset using AIC\n",
      "Cannot select better subset using AIC\n",
      "Cannot select better subset using AIC\n",
      "Cannot select better subset using AIC\n",
      "Cannot select better subset using AIC\n",
      "Cannot select better subset using AIC\n",
      "Cannot select better subset using AIC\n",
      "Cannot select better subset using AIC\n",
      "Cannot select better subset using AIC\n",
      "Cannot select better subset using AIC\n",
      "Cannot select better subset using AIC\n",
      "Cannot select better subset using AIC\n",
      "Cannot select better subset using AIC\n",
      "Cannot select better subset using AIC\n",
      "Cannot select better subset using AIC\n",
      "Cannot select better subset using AIC\n",
      "Cannot select better subset using AIC\n",
      "Cannot select better subset using AIC\n",
      "Cannot select better subset using AIC\n",
      "Cannot select better subset using AIC\n",
      "Cannot select better subset using AIC\n",
      "Cannot select better subset using AIC\n",
      "Cannot select better subset using AIC\n",
      "Cannot select better subset using AIC\n",
      "Cannot select better subset using AIC\n",
      "Cannot select better subset using AIC\n",
      "Cannot select better subset using AIC\n",
      "Cannot select better subset using AIC\n",
      "Cannot select better subset using AIC\n",
      "Cannot select better subset using AIC\n",
      "Cannot select better subset using AIC\n",
      "Cannot select better subset using AIC\n",
      "Cannot select better subset using AIC\n",
      "Cannot select better subset using AIC\n",
      "Cannot select better subset using AIC\n",
      "Cannot select better subset using AIC\n",
      "Cannot select better subset using AIC\n",
      "best_subset: [0, 20, 4, 43, 32, 50, 17, 33, 8, 22, 5, 40, 56, 53]\n",
      "2008 0 93 0\n",
      "working on model: fss_BIC\n",
      "Cannot select better subset using BIC\n",
      "Cannot select better subset using BIC\n",
      "Cannot select better subset using BIC\n",
      "Cannot select better subset using BIC\n",
      "Cannot select better subset using BIC\n",
      "Cannot select better subset using BIC\n",
      "Cannot select better subset using BIC\n",
      "Cannot select better subset using BIC\n",
      "Cannot select better subset using BIC\n",
      "Cannot select better subset using BIC\n",
      "Cannot select better subset using BIC\n",
      "Cannot select better subset using BIC\n",
      "Cannot select better subset using BIC\n",
      "Cannot select better subset using BIC\n",
      "Cannot select better subset using BIC\n",
      "Cannot select better subset using BIC\n",
      "Cannot select better subset using BIC\n",
      "Cannot select better subset using BIC\n",
      "Cannot select better subset using BIC\n",
      "Cannot select better subset using BIC\n",
      "Cannot select better subset using BIC\n",
      "Cannot select better subset using BIC\n",
      "Cannot select better subset using BIC\n",
      "Cannot select better subset using BIC\n",
      "Cannot select better subset using BIC\n",
      "Cannot select better subset using BIC\n",
      "Cannot select better subset using BIC\n",
      "Cannot select better subset using BIC\n",
      "Cannot select better subset using BIC\n",
      "Cannot select better subset using BIC\n",
      "Cannot select better subset using BIC\n",
      "Cannot select better subset using BIC\n",
      "Cannot select better subset using BIC\n",
      "Cannot select better subset using BIC\n",
      "Cannot select better subset using BIC\n",
      "Cannot select better subset using BIC\n",
      "Cannot select better subset using BIC\n",
      "Cannot select better subset using BIC\n",
      "Cannot select better subset using BIC\n",
      "Cannot select better subset using BIC\n",
      "Cannot select better subset using BIC\n",
      "Cannot select better subset using BIC\n",
      "Cannot select better subset using BIC\n",
      "Cannot select better subset using BIC\n",
      "Cannot select better subset using BIC\n",
      "Cannot select better subset using BIC\n",
      "Cannot select better subset using BIC\n",
      "Cannot select better subset using BIC\n",
      "Cannot select better subset using BIC\n",
      "Cannot select better subset using BIC\n",
      "Cannot select better subset using BIC\n",
      "Cannot select better subset using BIC\n",
      "Cannot select better subset using BIC\n",
      "Cannot select better subset using BIC\n",
      "best_subset: [0, 20, 4, 43, 32]\n",
      "2008 0 93 0\n",
      "working on model: fss_pseudo_R_square\n",
      "Cannot select better subset using pseudo R-square\n",
      "Cannot select better subset using pseudo R-square\n",
      "Cannot select better subset using pseudo R-square\n",
      "Cannot select better subset using pseudo R-square\n",
      "Cannot select better subset using pseudo R-square\n",
      "Cannot select better subset using pseudo R-square\n",
      "Cannot select better subset using pseudo R-square\n",
      "Cannot select better subset using pseudo R-square\n",
      "best_subset: [51, 56]\n",
      "2008 0 93 0\n",
      "working on model: cross_validation\n",
      "working on model: lasso\n",
      "2008 0 93 0\n",
      "working on model: feature_permutation\n",
      "2008 0 93 0\n",
      "working on data set: d2_robust\n",
      "working on model: fss_AIC\n",
      "Cannot select better subset using AIC\n",
      "Cannot select better subset using AIC\n",
      "Cannot select better subset using AIC\n",
      "Cannot select better subset using AIC\n",
      "Cannot select better subset using AIC\n",
      "Cannot select better subset using AIC\n",
      "best_subset: [0, 20, 4, 43, 32, 50, 17, 33, 8, 22, 5, 40, 56, 53]\n",
      "1996 12 92 1\n",
      "working on model: fss_BIC\n",
      "Cannot select better subset using BIC\n",
      "Cannot select better subset using BIC\n",
      "Cannot select better subset using BIC\n",
      "Cannot select better subset using BIC\n",
      "Cannot select better subset using BIC\n",
      "Cannot select better subset using BIC\n",
      "Cannot select better subset using BIC\n",
      "Cannot select better subset using BIC\n",
      "Cannot select better subset using BIC\n",
      "best_subset: [0, 20, 4, 43, 32]\n",
      "2003 5 93 0\n",
      "working on model: fss_pseudo_R_square\n",
      "Cannot select better subset using pseudo R-square\n",
      "Cannot select better subset using pseudo R-square\n",
      "Cannot select better subset using pseudo R-square\n",
      "best_subset: [51, 56]\n",
      "2007 1 93 0\n",
      "working on model: cross_validation\n",
      "working on model: lasso\n",
      "1998 10 92 1\n",
      "working on model: feature_permutation\n",
      "2006 2 93 0\n",
      "working on data set: d2_normalizer\n",
      "working on model: fss_AIC\n",
      "Cannot select better subset using AIC\n",
      "Cannot select better subset using AIC\n",
      "Cannot select better subset using AIC\n",
      "Cannot select better subset using AIC\n",
      "Cannot select better subset using AIC\n",
      "Cannot select better subset using AIC\n",
      "Cannot select better subset using AIC\n",
      "Cannot select better subset using AIC\n",
      "Cannot select better subset using AIC\n",
      "Cannot select better subset using AIC\n",
      "Cannot select better subset using AIC\n",
      "Cannot select better subset using AIC\n",
      "Cannot select better subset using AIC\n",
      "Cannot select better subset using AIC\n",
      "Cannot select better subset using AIC\n",
      "Cannot select better subset using AIC\n",
      "Cannot select better subset using AIC\n",
      "Cannot select better subset using AIC\n",
      "Cannot select better subset using AIC\n",
      "Cannot select better subset using AIC\n",
      "Cannot select better subset using AIC\n",
      "Cannot select better subset using AIC\n",
      "Cannot select better subset using AIC\n",
      "Cannot select better subset using AIC\n",
      "Cannot select better subset using AIC\n",
      "Cannot select better subset using AIC\n",
      "Cannot select better subset using AIC\n",
      "Cannot select better subset using AIC\n",
      "Cannot select better subset using AIC\n",
      "Cannot select better subset using AIC\n",
      "Cannot select better subset using AIC\n",
      "Cannot select better subset using AIC\n",
      "best_subset: [0, 20, 4, 43, 32, 50, 17, 33, 8, 22, 5, 40, 56, 53]\n",
      "2008 0 93 0\n",
      "working on model: fss_BIC\n",
      "Cannot select better subset using BIC\n",
      "Cannot select better subset using BIC\n",
      "Cannot select better subset using BIC\n",
      "Cannot select better subset using BIC\n",
      "Cannot select better subset using BIC\n",
      "Cannot select better subset using BIC\n",
      "Cannot select better subset using BIC\n",
      "Cannot select better subset using BIC\n",
      "Cannot select better subset using BIC\n",
      "Cannot select better subset using BIC\n",
      "Cannot select better subset using BIC\n",
      "Cannot select better subset using BIC\n",
      "Cannot select better subset using BIC\n",
      "Cannot select better subset using BIC\n",
      "Cannot select better subset using BIC\n",
      "Cannot select better subset using BIC\n",
      "Cannot select better subset using BIC\n",
      "Cannot select better subset using BIC\n",
      "Cannot select better subset using BIC\n",
      "Cannot select better subset using BIC\n",
      "Cannot select better subset using BIC\n",
      "Cannot select better subset using BIC\n",
      "Cannot select better subset using BIC\n",
      "Cannot select better subset using BIC\n",
      "Cannot select better subset using BIC\n",
      "Cannot select better subset using BIC\n",
      "Cannot select better subset using BIC\n",
      "Cannot select better subset using BIC\n",
      "Cannot select better subset using BIC\n",
      "best_subset: [0, 20, 4, 43, 32]\n",
      "2008 0 93 0\n",
      "working on model: fss_pseudo_R_square\n",
      "Cannot select better subset using pseudo R-square\n",
      "Cannot select better subset using pseudo R-square\n",
      "Cannot select better subset using pseudo R-square\n",
      "Cannot select better subset using pseudo R-square\n",
      "Cannot select better subset using pseudo R-square\n",
      "Cannot select better subset using pseudo R-square\n",
      "Cannot select better subset using pseudo R-square\n",
      "Cannot select better subset using pseudo R-square\n",
      "Cannot select better subset using pseudo R-square\n",
      "Cannot select better subset using pseudo R-square\n",
      "Cannot select better subset using pseudo R-square\n",
      "Cannot select better subset using pseudo R-square\n",
      "Cannot select better subset using pseudo R-square\n",
      "Cannot select better subset using pseudo R-square\n",
      "Cannot select better subset using pseudo R-square\n",
      "Cannot select better subset using pseudo R-square\n",
      "Cannot select better subset using pseudo R-square\n",
      "best_subset: [51, 56]\n",
      "2008 0 93 0\n",
      "working on model: cross_validation\n",
      "working on model: lasso\n",
      "2008 0 93 0\n",
      "working on model: feature_permutation\n",
      "2008 0 93 0\n"
     ]
    }
   ],
   "source": [
    "ml_2 = [fss_aic, fss_bic, fss_pseudo_R, cross_val, lasso, feature_perm]\n",
    "ml_as_string_2 = ['fss_AIC', 'fss_BIC', 'fss_pseudo_R_square', 'cross_validation', \"lasso\", \"feature_permutation\"]\n",
    "\n",
    "for data_set_name, data_set in zip(ds2_as_str, ds2):\n",
    "    \n",
    "    print(f'working on data set: {data_set_name}')\n",
    "    \n",
    "    for model_name, model in zip(ml_as_string_2, ml_2): \n",
    "        \n",
    "        print(f'working on model: {model_name}')\n",
    "        \n",
    "        if model_name == \"lasso\":\n",
    "            model_performance = model.perform_lasso_logistic_regression(data_set)\n",
    "        elif model_name == 'cross_validation':\n",
    "            model_performance = model.eval_cross_validation_train(data_set)\n",
    "        else:\n",
    "            model_performance = model.evaluate_model(data_set)\n",
    "        \n",
    "        selected_metrics.append_metrics(data_set=data_set_name,\n",
    "                                        selection_method=model_name,\n",
    "                                        metrics_df=model_performance)"
   ],
   "metadata": {
    "collapsed": false,
    "ExecuteTime": {
     "end_time": "2023-10-28T04:22:01.711593500Z",
     "start_time": "2023-10-28T03:29:58.857164200Z"
    }
   },
   "id": "aa93391373c589be"
  },
  {
   "cell_type": "code",
   "execution_count": 16,
   "outputs": [
    {
     "name": "stdout",
     "output_type": "stream",
     "text": [
      "Evaluation of data_set 2 exec time: 0.3936424533526103 min\n"
     ]
    }
   ],
   "source": [
    "end = time.time()\n",
    "print(f\"Evaluation of data_set 2 exec time: {(end - start) / 60} min\")"
   ],
   "metadata": {
    "collapsed": false,
    "ExecuteTime": {
     "end_time": "2023-10-28T04:40:59.535904800Z",
     "start_time": "2023-10-28T04:40:59.393963900Z"
    }
   },
   "id": "b87e993f9aa7d23e"
  },
  {
   "cell_type": "markdown",
   "source": [
    "Third data evaluation"
   ],
   "metadata": {
    "collapsed": false
   },
   "id": "87162a0806043632"
  },
  {
   "cell_type": "code",
   "execution_count": 10,
   "outputs": [
    {
     "name": "stdout",
     "output_type": "stream",
     "text": [
      "Evaluation start\n"
     ]
    }
   ],
   "source": [
    "start = time.time()\n",
    "print(\"Evaluation start\")"
   ],
   "metadata": {
    "collapsed": false,
    "ExecuteTime": {
     "end_time": "2023-10-28T14:14:02.838419500Z",
     "start_time": "2023-10-28T14:14:02.748415700Z"
    }
   },
   "id": "b10c4defe725d7f"
  },
  {
   "cell_type": "code",
   "execution_count": 11,
   "outputs": [
    {
     "name": "stdout",
     "output_type": "stream",
     "text": [
      "working on data set: d3_standard\n",
      "working on model: fss_AIC\n",
      "Error occurred for model fss_AIC: Singular matrix\n",
      "working on model: fss_BIC\n",
      "Error occurred for model fss_BIC: Singular matrix\n",
      "working on model: fss_pseudo_R_square\n",
      "Error occurred for model fss_pseudo_R_square: Singular matrix\n",
      "working on model: cross_validation\n",
      "working on model: lasso\n",
      "31\n",
      "127 1 6 0\n",
      "working on model: feature_permutation\n",
      "128 0 6 0\n",
      "working on model: brute_force\n",
      "Error occurred for model brute_force: Singular matrix\n",
      "working on data set: d3_min_max\n",
      "working on model: fss_AIC\n",
      "Error occurred for model fss_AIC: Singular matrix\n",
      "working on model: fss_BIC\n",
      "Error occurred for model fss_BIC: Singular matrix\n",
      "working on model: fss_pseudo_R_square\n",
      "Error occurred for model fss_pseudo_R_square: Singular matrix\n",
      "working on model: cross_validation\n",
      "working on model: lasso\n",
      "31\n",
      "128 0 6 0\n",
      "working on model: feature_permutation\n",
      "128 0 6 0\n",
      "working on model: brute_force\n",
      "Error occurred for model brute_force: Singular matrix\n",
      "working on data set: d3_robust\n",
      "working on model: fss_AIC\n",
      "Error occurred for model fss_AIC: Singular matrix\n",
      "working on model: fss_BIC\n",
      "Error occurred for model fss_BIC: Singular matrix\n",
      "working on model: fss_pseudo_R_square\n",
      "Error occurred for model fss_pseudo_R_square: Singular matrix\n",
      "working on model: cross_validation\n",
      "working on model: lasso\n",
      "31\n",
      "127 1 6 0\n",
      "working on model: feature_permutation\n",
      "128 0 6 0\n",
      "working on model: brute_force\n",
      "Error occurred for model brute_force: Singular matrix\n",
      "working on data set: d3_normalizer\n",
      "working on model: fss_AIC\n",
      "Error occurred for model fss_AIC: Singular matrix\n",
      "working on model: fss_BIC\n",
      "Error occurred for model fss_BIC: Singular matrix\n",
      "working on model: fss_pseudo_R_square\n",
      "Error occurred for model fss_pseudo_R_square: Singular matrix\n",
      "working on model: cross_validation\n",
      "working on model: lasso\n",
      "31\n",
      "128 0 6 0\n",
      "working on model: feature_permutation\n",
      "128 0 6 0\n",
      "working on model: brute_force\n",
      "Error occurred for model brute_force: Singular matrix\n"
     ]
    }
   ],
   "source": [
    "ml_3 = [fss_aic, fss_bic, fss_pseudo_R, cross_val, lasso, feature_perm, brute_force]\n",
    "ml_as_string_3 = ['fss_AIC', 'fss_BIC', 'fss_pseudo_R_square', 'cross_validation', \"lasso\", \"feature_permutation\", 'brute_force']\n",
    "\n",
    "# ml_3 = [cross_val, lasso, feature_perm, brute_force]\n",
    "# ml_as_string_3 = ['cross_validation', \"lasso\", \"feature_permutation\", 'brute_force']\n",
    "\n",
    "for data_set_name, data_set in zip(ds3_as_str, ds3):\n",
    "    print(f'working on data set: {data_set_name}')\n",
    "\n",
    "    for model_name, model in zip(ml_as_string_3, ml_3):\n",
    "        print(f'working on model: {model_name}')\n",
    "\n",
    "        try:\n",
    "            if model_name == \"lasso\":\n",
    "                model_performance = model.perform_lasso_logistic_regression(data_set)\n",
    "            elif model_name == 'cross_validation':\n",
    "                model_performance = model.eval_cross_validation_train(data_set)\n",
    "            else:\n",
    "                model_performance = model.evaluate_model(data_set)\n",
    "\n",
    "            selected_metrics.append_metrics(data_set=data_set_name,\n",
    "                                            selection_method=model_name,\n",
    "                                            metrics_df=model_performance)\n",
    "        except Exception as e:\n",
    "            print(f\"Error occurred for model {model_name}: {str(e)}\")\n",
    "            continue  # Continue to the next model if an error occurs"
   ],
   "metadata": {
    "collapsed": false,
    "ExecuteTime": {
     "end_time": "2023-10-28T14:14:06.666592700Z",
     "start_time": "2023-10-28T14:14:03.100633500Z"
    }
   },
   "id": "2fb580eb715e1e63"
  },
  {
   "cell_type": "code",
   "execution_count": 12,
   "outputs": [
    {
     "name": "stdout",
     "output_type": "stream",
     "text": [
      "Evaluation of data_set 3 exec time: 0.06520285606384277 min\n"
     ]
    }
   ],
   "source": [
    "end = time.time()\n",
    "print(f\"Evaluation of data_set 3 exec time: {(end - start) / 60} min\")"
   ],
   "metadata": {
    "collapsed": false,
    "ExecuteTime": {
     "end_time": "2023-10-28T14:14:06.745601Z",
     "start_time": "2023-10-28T14:14:06.662604100Z"
    }
   },
   "id": "133b3a14541ea20"
  },
  {
   "cell_type": "markdown",
   "source": [
    "Forth data set"
   ],
   "metadata": {
    "collapsed": false
   },
   "id": "4b9d4150a05790b1"
  },
  {
   "cell_type": "code",
   "execution_count": 7,
   "outputs": [
    {
     "name": "stdout",
     "output_type": "stream",
     "text": [
      "Evaluation start\n"
     ]
    }
   ],
   "source": [
    "start = time.time()\n",
    "print(\"Evaluation start\")"
   ],
   "metadata": {
    "collapsed": false,
    "ExecuteTime": {
     "end_time": "2023-10-28T14:32:22.956840500Z",
     "start_time": "2023-10-28T14:32:22.870846Z"
    }
   },
   "id": "8f4214b593d2f515"
  },
  {
   "cell_type": "code",
   "execution_count": 8,
   "outputs": [
    {
     "name": "stdout",
     "output_type": "stream",
     "text": [
      "27\n",
      "preprocess_finished\n",
      "27\n",
      "preprocess_finished\n",
      "27\n",
      "preprocess_finished\n"
     ]
    }
   ],
   "source": [
    "# d4_train_standard = d4.preprocess_train_data(scaler_type='StandardScaler')\n",
    "# d4_test_standard = d4.preprocess_test_data(scaler_type='StandardScaler')\n",
    "d4_train_min_max = d4.preprocess_train_data(scaler_type='MinMaxScaler')\n",
    "d4_test_min_max = d4.preprocess_test_data(scaler_type='MinMaxScaler')\n",
    "d4_train_robust = d4.preprocess_train_data(scaler_type='RobustScaler')\n",
    "d4_test_robust = d4.preprocess_test_data(scaler_type='RobustScaler')\n",
    "d4_train_normalizer = d4.preprocess_train_data(scaler_type='Normalizer')\n",
    "d4_test_normalizer = d4.preprocess_test_data(scaler_type='Normalizer')\n",
    "\n",
    "# ds4_as_str = ['d4_standard', 'd4_min_max', 'd4_robust', 'd4_normalizer']\n",
    "# ds4_train = [d4_train_standard, d4_train_min_max, d4_train_robust, d4_train_normalizer]\n",
    "# ds4_test = [d4_test_standard, d4_test_min_max, d4_test_robust, d4_test_normalizer]\n",
    "ds4_as_str = ['d4_min_max', 'd4_robust', 'd4_normalizer']\n",
    "ds4_train = [ d4_train_min_max, d4_train_robust, d4_train_normalizer]\n",
    "ds4_test = [d4_test_min_max, d4_test_robust, d4_test_normalizer]"
   ],
   "metadata": {
    "collapsed": false,
    "ExecuteTime": {
     "end_time": "2023-10-28T14:32:39.817094300Z",
     "start_time": "2023-10-28T14:32:23.106329100Z"
    }
   },
   "id": "7201f88947a0e3ad"
  },
  {
   "cell_type": "code",
   "execution_count": 8,
   "outputs": [],
   "source": [],
   "metadata": {
    "collapsed": false,
    "ExecuteTime": {
     "end_time": "2023-10-28T14:32:39.830825500Z",
     "start_time": "2023-10-28T14:32:39.816099400Z"
    }
   },
   "id": "641892696104fdf4"
  },
  {
   "cell_type": "code",
   "execution_count": 9,
   "outputs": [
    {
     "name": "stdout",
     "output_type": "stream",
     "text": [
      "working on data set: d4_min_max, model: lasso\n",
      "126\n",
      "185314 1826 7954 4428\n",
      "working on data set: d4_min_max, model: feature_permutation\n",
      "187140 0 12382 0\n",
      "working on data set: d4_min_max, model: brute_force\n",
      "Error occurred for model 'brute_force': Singular matrix\n",
      "working on data set: d4_min_max, model: fss_AIC\n",
      "Error occurred for model 'fss_AIC': Singular matrix\n",
      "working on data set: d4_min_max, model: fss_BIC\n",
      "Error occurred for model 'fss_BIC': Singular matrix\n",
      "working on data set: d4_min_max, model: fss_pseudo_R_square\n",
      "Error occurred for model 'fss_pseudo_R_square': Singular matrix\n",
      "working on data set: d4_robust, model: lasso\n",
      "126\n",
      "185325 1815 7951 4431\n",
      "working on data set: d4_robust, model: feature_permutation\n",
      "186949 191 12272 110\n",
      "working on data set: d4_robust, model: brute_force\n",
      "Error occurred for model 'brute_force': Singular matrix\n",
      "working on data set: d4_robust, model: fss_AIC\n",
      "Error occurred for model 'fss_AIC': Singular matrix\n",
      "working on data set: d4_robust, model: fss_BIC\n",
      "Error occurred for model 'fss_BIC': Singular matrix\n",
      "working on data set: d4_robust, model: fss_pseudo_R_square\n",
      "Error occurred for model 'fss_pseudo_R_square': Singular matrix\n",
      "working on data set: d4_normalizer, model: lasso\n",
      "126\n",
      "186744 396 11395 987\n",
      "working on data set: d4_normalizer, model: feature_permutation\n",
      "186766 374 11471 911\n",
      "working on data set: d4_normalizer, model: brute_force\n",
      "Error occurred for model 'brute_force': Singular matrix\n",
      "working on data set: d4_normalizer, model: fss_AIC\n",
      "Error occurred for model 'fss_AIC': Singular matrix\n",
      "working on data set: d4_normalizer, model: fss_BIC\n",
      "Error occurred for model 'fss_BIC': Singular matrix\n",
      "working on data set: d4_normalizer, model: fss_pseudo_R_square\n",
      "Error occurred for model 'fss_pseudo_R_square': Singular matrix\n"
     ]
    }
   ],
   "source": [
    "ml = [lasso, feature_perm, brute_force, fss_aic, fss_bic, fss_pseudo_R]\n",
    "ml_as_string = [\"lasso\", \"feature_permutation\", 'brute_force', 'fss_AIC', 'fss_BIC', 'fss_pseudo_R_square']\n",
    "\n",
    "for data_set_name, data_set_train, data_set_test in zip(ds4_as_str, ds4_train, ds4_test):\n",
    "    # print(f'working on ')\n",
    "\n",
    "    for model_name, model in zip(ml_as_string, ml):\n",
    "        print(f'working on data set: {data_set_name}, model: {model_name}')\n",
    "\n",
    "        try:\n",
    "            if model_name == \"lasso\":\n",
    "                model_performance = model.perform_lasso_logistic_regression(df=data_set_train,\n",
    "                                                                        df_pre_split=data_set_test,\n",
    "                                                                        pre_split=True)\n",
    "            else:\n",
    "                model_performance = model.evaluate_model(df=data_set_train,\n",
    "                                                        df_pre_split=data_set_test,\n",
    "                                                        pre_split=True)\n",
    "\n",
    "            selected_metrics.append_metrics(data_set=data_set_name,\n",
    "                                            selection_method=model_name,\n",
    "                                            metrics_df=model_performance)\n",
    "        except Exception as e:\n",
    "            print(f\"Error occurred for model '{model_name}': {str(e)}\")\n",
    "            continue  # Continue to the next model if an error occurs"
   ],
   "metadata": {
    "collapsed": false,
    "ExecuteTime": {
     "end_time": "2023-10-28T14:45:49.930400400Z",
     "start_time": "2023-10-28T14:32:39.833826300Z"
    }
   },
   "id": "dce4361daa427984"
  },
  {
   "cell_type": "code",
   "execution_count": 10,
   "outputs": [
    {
     "name": "stdout",
     "output_type": "stream",
     "text": [
      "Evaluation of data_set 4 exec time: 13.451492663224538 min\n"
     ]
    }
   ],
   "source": [
    "end = time.time()\n",
    "print(f\"Evaluation of data_set 4 exec time: {(end - start) / 60} min\")"
   ],
   "metadata": {
    "collapsed": false,
    "ExecuteTime": {
     "end_time": "2023-10-28T14:45:50.056619300Z",
     "start_time": "2023-10-28T14:45:49.931401300Z"
    }
   },
   "id": "2fb75b6f68143e49"
  },
  {
   "cell_type": "code",
   "execution_count": null,
   "outputs": [],
   "source": [
    " "
   ],
   "metadata": {
    "collapsed": false
   },
   "id": "e10b35ea7bc519ac"
  }
 ],
 "metadata": {
  "kernelspec": {
   "display_name": "Python 3 (ipykernel)",
   "language": "python",
   "name": "python3"
  },
  "language_info": {
   "codemirror_mode": {
    "name": "ipython",
    "version": 3
   },
   "file_extension": ".py",
   "mimetype": "text/x-python",
   "name": "python",
   "nbconvert_exporter": "python",
   "pygments_lexer": "ipython3",
   "version": "3.9.13"
  }
 },
 "nbformat": 4,
 "nbformat_minor": 5
}
