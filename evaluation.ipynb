{
 "cells": [
  {
   "cell_type": "code",
   "execution_count": 21,
   "id": "807e714e4b469b",
   "metadata": {
    "collapsed": false,
    "ExecuteTime": {
     "end_time": "2023-10-25T18:39:47.635202400Z",
     "start_time": "2023-10-25T18:39:47.417820Z"
    }
   },
   "outputs": [],
   "source": [
    "import time\n",
    "import warnings\n",
    "# warnings.filterwarnings(\"ignore\", message=\"Maximum Likelihood optimization failed to\", category=UserWarning)\n",
    "# warnings.filterwarnings(\"ignore\", message=\"overflow encountered in exp\", category=RuntimeWarning)\n",
    "warnings.filterwarnings(\"ignore\", category=UserWarning)"
   ]
  },
  {
   "cell_type": "code",
   "execution_count": 22,
   "outputs": [
    {
     "name": "stdout",
     "output_type": "stream",
     "text": [
      "Evaluation start\n"
     ]
    }
   ],
   "source": [
    "start = time.time()\n",
    "print(\"Evaluation start\")"
   ],
   "metadata": {
    "collapsed": false,
    "ExecuteTime": {
     "end_time": "2023-10-25T18:39:47.651202400Z",
     "start_time": "2023-10-25T18:39:47.521558400Z"
    }
   },
   "id": "ad0b9137cd057a4a"
  },
  {
   "cell_type": "code",
   "execution_count": 23,
   "outputs": [
    {
     "name": "stdout",
     "output_type": "stream",
     "text": [
      "The autoreload extension is already loaded. To reload it, use:\n",
      "  %reload_ext autoreload\n"
     ]
    }
   ],
   "source": [
    "%load_ext autoreload\n",
    "%autoreload 2"
   ],
   "metadata": {
    "collapsed": false,
    "ExecuteTime": {
     "end_time": "2023-10-25T18:39:47.798614Z",
     "start_time": "2023-10-25T18:39:47.649202300Z"
    }
   },
   "id": "d2ab4ae843cc9a6e"
  },
  {
   "cell_type": "code",
   "execution_count": 24,
   "id": "initial_id",
   "metadata": {
    "ExecuteTime": {
     "end_time": "2023-10-25T18:39:47.956112600Z",
     "start_time": "2023-10-25T18:39:47.773976900Z"
    }
   },
   "outputs": [],
   "source": [
    "import data_operations as d\n",
    "import ML_operations as ml"
   ]
  },
  {
   "cell_type": "markdown",
   "source": [
    "## Initialise instances of DataSet classes"
   ],
   "metadata": {
    "collapsed": false
   },
   "id": "74e61981908376e4"
  },
  {
   "cell_type": "code",
   "execution_count": 25,
   "id": "e5d5e9d3945bb089",
   "metadata": {
    "collapsed": false,
    "ExecuteTime": {
     "end_time": "2023-10-25T18:39:48.109198Z",
     "start_time": "2023-10-25T18:39:47.920121400Z"
    }
   },
   "outputs": [],
   "source": [
    "d1 = d.DataSet1()\n",
    "d2 = d.DataSet2()\n",
    "d3 = d.DataSet3()\n",
    "d4 = d.DataSet4()"
   ]
  },
  {
   "cell_type": "markdown",
   "source": [
    "## Preprocess datasets using different scalers types"
   ],
   "metadata": {
    "collapsed": false
   },
   "id": "26f1a0355acd530e"
  },
  {
   "cell_type": "markdown",
   "source": [
    "DataSet1"
   ],
   "metadata": {
    "collapsed": false
   },
   "id": "333c492f67d36ab1"
  },
  {
   "cell_type": "code",
   "execution_count": 26,
   "id": "e6b65284a67bb9e3",
   "metadata": {
    "collapsed": false,
    "ExecuteTime": {
     "end_time": "2023-10-25T18:39:48.261009800Z",
     "start_time": "2023-10-25T18:39:48.077648900Z"
    }
   },
   "outputs": [],
   "source": [
    "d1_standard = d1.preprocess_data(scaler_type='StandardScaler')\n",
    "d1_min_max = d1.preprocess_data(scaler_type='MinMaxScaler')\n",
    "d1_robust = d1.preprocess_data(scaler_type='RobustScaler')\n",
    "d1_normalizer = d1.preprocess_data(scaler_type='Normalizer')\n",
    "\n",
    "ds1 = [d1_standard, d1_min_max, d1_robust, d1_normalizer]"
   ]
  },
  {
   "cell_type": "markdown",
   "source": [
    "DataSet2"
   ],
   "metadata": {
    "collapsed": false
   },
   "id": "b66c95151cff6bfb"
  },
  {
   "cell_type": "code",
   "execution_count": 27,
   "outputs": [],
   "source": [
    "d2_standard = d2.preprocess_data(scaler_type='StandardScaler')\n",
    "d2_min_max = d2.preprocess_data(scaler_type='MinMaxScaler')\n",
    "d2_robust = d2.preprocess_data(scaler_type='RobustScaler')\n",
    "d2_normalizer = d2.preprocess_data(scaler_type='Normalizer')\n",
    "\n",
    "ds2 = [d2_standard, d2_min_max, d2_robust, d2_normalizer]"
   ],
   "metadata": {
    "collapsed": false,
    "ExecuteTime": {
     "end_time": "2023-10-25T18:39:50.416708400Z",
     "start_time": "2023-10-25T18:39:48.263008800Z"
    }
   },
   "id": "de67f98f8043f403"
  },
  {
   "cell_type": "markdown",
   "source": [
    "DataSet3"
   ],
   "metadata": {
    "collapsed": false
   },
   "id": "96117a2addc6ce14"
  },
  {
   "cell_type": "code",
   "execution_count": 28,
   "outputs": [],
   "source": [
    "d3_standard = d3.preprocess_data(scaler_type='StandardScaler')\n",
    "d3_min_max = d3.preprocess_data(scaler_type='MinMaxScaler')\n",
    "d3_robust = d3.preprocess_data(scaler_type='RobustScaler')\n",
    "d3_normalizer = d3.preprocess_data(scaler_type='Normalizer')\n",
    "\n",
    "ds3 = [d3_standard, d3_min_max , d3_robust, d3_normalizer]"
   ],
   "metadata": {
    "collapsed": false,
    "ExecuteTime": {
     "end_time": "2023-10-25T18:39:50.588894300Z",
     "start_time": "2023-10-25T18:39:50.418687100Z"
    }
   },
   "id": "5732a2755971026d"
  },
  {
   "cell_type": "markdown",
   "source": [
    "DataSet4"
   ],
   "metadata": {
    "collapsed": false
   },
   "id": "ffe3608d1e7c7293"
  },
  {
   "cell_type": "code",
   "execution_count": 29,
   "outputs": [
    {
     "ename": "KeyError",
     "evalue": "'cb_father'",
     "output_type": "error",
     "traceback": [
      "\u001B[1;31m---------------------------------------------------------------------------\u001B[0m",
      "\u001B[1;31mKeyError\u001B[0m                                  Traceback (most recent call last)",
      "File \u001B[1;32m~\\PycharmProjects\\Methods_of_selecting_variables_in_logistic_regression_models\\venv\\lib\\site-packages\\pandas\\core\\indexes\\base.py:3652\u001B[0m, in \u001B[0;36mIndex.get_loc\u001B[1;34m(self, key)\u001B[0m\n\u001B[0;32m   3651\u001B[0m \u001B[38;5;28;01mtry\u001B[39;00m:\n\u001B[1;32m-> 3652\u001B[0m     \u001B[38;5;28;01mreturn\u001B[39;00m \u001B[38;5;28;43mself\u001B[39;49m\u001B[38;5;241;43m.\u001B[39;49m\u001B[43m_engine\u001B[49m\u001B[38;5;241;43m.\u001B[39;49m\u001B[43mget_loc\u001B[49m\u001B[43m(\u001B[49m\u001B[43mcasted_key\u001B[49m\u001B[43m)\u001B[49m\n\u001B[0;32m   3653\u001B[0m \u001B[38;5;28;01mexcept\u001B[39;00m \u001B[38;5;167;01mKeyError\u001B[39;00m \u001B[38;5;28;01mas\u001B[39;00m err:\n",
      "File \u001B[1;32m~\\PycharmProjects\\Methods_of_selecting_variables_in_logistic_regression_models\\venv\\lib\\site-packages\\pandas\\_libs\\index.pyx:147\u001B[0m, in \u001B[0;36mpandas._libs.index.IndexEngine.get_loc\u001B[1;34m()\u001B[0m\n",
      "File \u001B[1;32m~\\PycharmProjects\\Methods_of_selecting_variables_in_logistic_regression_models\\venv\\lib\\site-packages\\pandas\\_libs\\index.pyx:176\u001B[0m, in \u001B[0;36mpandas._libs.index.IndexEngine.get_loc\u001B[1;34m()\u001B[0m\n",
      "File \u001B[1;32mpandas\\_libs\\hashtable_class_helper.pxi:7080\u001B[0m, in \u001B[0;36mpandas._libs.hashtable.PyObjectHashTable.get_item\u001B[1;34m()\u001B[0m\n",
      "File \u001B[1;32mpandas\\_libs\\hashtable_class_helper.pxi:7088\u001B[0m, in \u001B[0;36mpandas._libs.hashtable.PyObjectHashTable.get_item\u001B[1;34m()\u001B[0m\n",
      "\u001B[1;31mKeyError\u001B[0m: 'cb_father'",
      "\nThe above exception was the direct cause of the following exception:\n",
      "\u001B[1;31mKeyError\u001B[0m                                  Traceback (most recent call last)",
      "Cell \u001B[1;32mIn[29], line 1\u001B[0m\n\u001B[1;32m----> 1\u001B[0m d4_train_standard \u001B[38;5;241m=\u001B[39m \u001B[43md4\u001B[49m\u001B[38;5;241;43m.\u001B[39;49m\u001B[43mpreprocess_train_data\u001B[49m\u001B[43m(\u001B[49m\u001B[43mscaler_type\u001B[49m\u001B[38;5;241;43m=\u001B[39;49m\u001B[38;5;124;43m'\u001B[39;49m\u001B[38;5;124;43mStandardScaler\u001B[39;49m\u001B[38;5;124;43m'\u001B[39;49m\u001B[43m)\u001B[49m\n\u001B[0;32m      2\u001B[0m d4_test_standard \u001B[38;5;241m=\u001B[39m d4\u001B[38;5;241m.\u001B[39mpreprocess_test_data(scaler_type\u001B[38;5;241m=\u001B[39m\u001B[38;5;124m'\u001B[39m\u001B[38;5;124mStandardScaler\u001B[39m\u001B[38;5;124m'\u001B[39m)\n\u001B[0;32m      3\u001B[0m d4_train_min_max \u001B[38;5;241m=\u001B[39m d4\u001B[38;5;241m.\u001B[39mpreprocess_train_data(scaler_type\u001B[38;5;241m=\u001B[39m\u001B[38;5;124m'\u001B[39m\u001B[38;5;124mMinMaxScaler\u001B[39m\u001B[38;5;124m'\u001B[39m)\n",
      "File \u001B[1;32m~\\PycharmProjects\\Methods_of_selecting_variables_in_logistic_regression_models\\data_operations.py:214\u001B[0m, in \u001B[0;36mDataSet4.preprocess_train_data\u001B[1;34m(self, scaler_type)\u001B[0m\n\u001B[0;32m    210\u001B[0m X \u001B[38;5;241m=\u001B[39m X\u001B[38;5;241m.\u001B[39mreplace([\u001B[38;5;124m'\u001B[39m\u001B[38;5;124mNot in universe\u001B[39m\u001B[38;5;124m'\u001B[39m, \u001B[38;5;124m'\u001B[39m\u001B[38;5;124m?\u001B[39m\u001B[38;5;124m'\u001B[39m, \u001B[38;5;124m'\u001B[39m\u001B[38;5;124mNot in universe or children\u001B[39m\u001B[38;5;124m'\u001B[39m, \u001B[38;5;124m'\u001B[39m\u001B[38;5;124mDo not know\u001B[39m\u001B[38;5;124m'\u001B[39m,\n\u001B[0;32m    211\u001B[0m                \u001B[38;5;124m'\u001B[39m\u001B[38;5;124mNot in universe under 1 year old\u001B[39m\u001B[38;5;124m'\u001B[39m, \u001B[38;5;124m'\u001B[39m\u001B[38;5;124mNA\u001B[39m\u001B[38;5;124m'\u001B[39m], np\u001B[38;5;241m.\u001B[39mnan)\n\u001B[0;32m    213\u001B[0m \u001B[38;5;28;01mfor\u001B[39;00m column \u001B[38;5;129;01min\u001B[39;00m [\u001B[38;5;124m'\u001B[39m\u001B[38;5;124mhispanic_Origin\u001B[39m\u001B[38;5;124m'\u001B[39m, \u001B[38;5;124m'\u001B[39m\u001B[38;5;124mcb_father\u001B[39m\u001B[38;5;124m'\u001B[39m, \u001B[38;5;124m'\u001B[39m\u001B[38;5;124mcbirth_mother\u001B[39m\u001B[38;5;124m'\u001B[39m, \u001B[38;5;124m'\u001B[39m\u001B[38;5;124mcb_self\u001B[39m\u001B[38;5;124m'\u001B[39m]:\n\u001B[1;32m--> 214\u001B[0m     \u001B[43mX\u001B[49m\u001B[43m[\u001B[49m\u001B[43mcolumn\u001B[49m\u001B[43m]\u001B[49m\u001B[38;5;241m.\u001B[39mfillna(X[column]\u001B[38;5;241m.\u001B[39mmode()[\u001B[38;5;241m0\u001B[39m], inplace\u001B[38;5;241m=\u001B[39m\u001B[38;5;28;01mTrue\u001B[39;00m)\n\u001B[0;32m    216\u001B[0m X[\u001B[38;5;124m\"\u001B[39m\u001B[38;5;124mcap_gain\u001B[39m\u001B[38;5;124m\"\u001B[39m] \u001B[38;5;241m=\u001B[39m np\u001B[38;5;241m.\u001B[39mwhere(X[\u001B[38;5;124m'\u001B[39m\u001B[38;5;124mcapital_gains\u001B[39m\u001B[38;5;124m'\u001B[39m] \u001B[38;5;241m>\u001B[39m \u001B[38;5;241m0\u001B[39m, \u001B[38;5;241m1\u001B[39m, \u001B[38;5;241m0\u001B[39m)\n\u001B[0;32m    217\u001B[0m X[\u001B[38;5;124m\"\u001B[39m\u001B[38;5;124mcap_loss\u001B[39m\u001B[38;5;124m\"\u001B[39m] \u001B[38;5;241m=\u001B[39m np\u001B[38;5;241m.\u001B[39mwhere(X[\u001B[38;5;124m'\u001B[39m\u001B[38;5;124mcapital_losses\u001B[39m\u001B[38;5;124m'\u001B[39m] \u001B[38;5;241m>\u001B[39m \u001B[38;5;241m0\u001B[39m, \u001B[38;5;241m1\u001B[39m, \u001B[38;5;241m0\u001B[39m)\n",
      "File \u001B[1;32m~\\PycharmProjects\\Methods_of_selecting_variables_in_logistic_regression_models\\venv\\lib\\site-packages\\pandas\\core\\frame.py:3761\u001B[0m, in \u001B[0;36mDataFrame.__getitem__\u001B[1;34m(self, key)\u001B[0m\n\u001B[0;32m   3759\u001B[0m \u001B[38;5;28;01mif\u001B[39;00m \u001B[38;5;28mself\u001B[39m\u001B[38;5;241m.\u001B[39mcolumns\u001B[38;5;241m.\u001B[39mnlevels \u001B[38;5;241m>\u001B[39m \u001B[38;5;241m1\u001B[39m:\n\u001B[0;32m   3760\u001B[0m     \u001B[38;5;28;01mreturn\u001B[39;00m \u001B[38;5;28mself\u001B[39m\u001B[38;5;241m.\u001B[39m_getitem_multilevel(key)\n\u001B[1;32m-> 3761\u001B[0m indexer \u001B[38;5;241m=\u001B[39m \u001B[38;5;28;43mself\u001B[39;49m\u001B[38;5;241;43m.\u001B[39;49m\u001B[43mcolumns\u001B[49m\u001B[38;5;241;43m.\u001B[39;49m\u001B[43mget_loc\u001B[49m\u001B[43m(\u001B[49m\u001B[43mkey\u001B[49m\u001B[43m)\u001B[49m\n\u001B[0;32m   3762\u001B[0m \u001B[38;5;28;01mif\u001B[39;00m is_integer(indexer):\n\u001B[0;32m   3763\u001B[0m     indexer \u001B[38;5;241m=\u001B[39m [indexer]\n",
      "File \u001B[1;32m~\\PycharmProjects\\Methods_of_selecting_variables_in_logistic_regression_models\\venv\\lib\\site-packages\\pandas\\core\\indexes\\base.py:3654\u001B[0m, in \u001B[0;36mIndex.get_loc\u001B[1;34m(self, key)\u001B[0m\n\u001B[0;32m   3652\u001B[0m     \u001B[38;5;28;01mreturn\u001B[39;00m \u001B[38;5;28mself\u001B[39m\u001B[38;5;241m.\u001B[39m_engine\u001B[38;5;241m.\u001B[39mget_loc(casted_key)\n\u001B[0;32m   3653\u001B[0m \u001B[38;5;28;01mexcept\u001B[39;00m \u001B[38;5;167;01mKeyError\u001B[39;00m \u001B[38;5;28;01mas\u001B[39;00m err:\n\u001B[1;32m-> 3654\u001B[0m     \u001B[38;5;28;01mraise\u001B[39;00m \u001B[38;5;167;01mKeyError\u001B[39;00m(key) \u001B[38;5;28;01mfrom\u001B[39;00m \u001B[38;5;21;01merr\u001B[39;00m\n\u001B[0;32m   3655\u001B[0m \u001B[38;5;28;01mexcept\u001B[39;00m \u001B[38;5;167;01mTypeError\u001B[39;00m:\n\u001B[0;32m   3656\u001B[0m     \u001B[38;5;66;03m# If we have a listlike key, _check_indexing_error will raise\u001B[39;00m\n\u001B[0;32m   3657\u001B[0m     \u001B[38;5;66;03m#  InvalidIndexError. Otherwise we fall through and re-raise\u001B[39;00m\n\u001B[0;32m   3658\u001B[0m     \u001B[38;5;66;03m#  the TypeError.\u001B[39;00m\n\u001B[0;32m   3659\u001B[0m     \u001B[38;5;28mself\u001B[39m\u001B[38;5;241m.\u001B[39m_check_indexing_error(key)\n",
      "\u001B[1;31mKeyError\u001B[0m: 'cb_father'"
     ]
    }
   ],
   "source": [
    "d4_train_standard = d4.preprocess_train_data(scaler_type='StandardScaler')\n",
    "d4_test_standard = d4.preprocess_test_data(scaler_type='StandardScaler')\n",
    "d4_train_min_max = d4.preprocess_train_data(scaler_type='MinMaxScaler')\n",
    "d4_test_min_max = d4.preprocess_test_data(scaler_type='MinMaxScaler')\n",
    "d4_train_robust = d4.preprocess_train_data(scaler_type='RobustScaler')\n",
    "d4_test_robust = d4.preprocess_test_data(scaler_type='RobustScaler')\n",
    "d4_train_normalizer = d4.preprocess_train_data(scaler_type='Normalizer')\n",
    "d4_test_normalizer = d4.preprocess_test_data(scaler_type='Normalizer')\n",
    "\n",
    "ds4_train = [d4_train_standard, d4_train_min_max, d4_train_robust, d4_train_normalizer]\n",
    "ds4_test = [d4_test_standard, d4_test_min_max, d4_test_robust, d4_test_normalizer]"
   ],
   "metadata": {
    "collapsed": false,
    "ExecuteTime": {
     "end_time": "2023-10-25T18:39:53.003086200Z",
     "start_time": "2023-10-25T18:39:50.592886700Z"
    }
   },
   "id": "d817c4b35171edb4"
  },
  {
   "cell_type": "markdown",
   "source": [
    "## Initialise instances of machine learning classes"
   ],
   "metadata": {
    "collapsed": false
   },
   "id": "a4d0db8a9698ef6b"
  },
  {
   "cell_type": "markdown",
   "source": [
    "Selected Metrics"
   ],
   "metadata": {
    "collapsed": false
   },
   "id": "c8ae550e92da1f13"
  },
  {
   "cell_type": "code",
   "execution_count": null,
   "outputs": [],
   "source": [
    "selected_metrics = ml.SelectedMetrics()"
   ],
   "metadata": {
    "collapsed": false,
    "ExecuteTime": {
     "start_time": "2023-10-25T18:39:53.002086300Z"
    }
   },
   "id": "8bc76c81b021bca8"
  },
  {
   "cell_type": "markdown",
   "source": [
    "Forward Stepwise Selection"
   ],
   "metadata": {
    "collapsed": false
   },
   "id": "efc939ce40d10e05"
  },
  {
   "cell_type": "code",
   "execution_count": null,
   "id": "c2eec2db85d27647",
   "metadata": {
    "collapsed": false,
    "ExecuteTime": {
     "start_time": "2023-10-25T18:39:53.004086600Z"
    }
   },
   "outputs": [],
   "source": [
    "fss_aic = ml.ForwardStepwiseSelection(model_criterion='AIC', feature_criterion='p_value')\n",
    "fss_bic = ml.ForwardStepwiseSelection(model_criterion='BIC', feature_criterion='p_value')\n",
    "fss_pseudo_R = ml.ForwardStepwiseSelection(model_criterion='pseudo_R_square', feature_criterion='p_value') "
   ]
  },
  {
   "cell_type": "markdown",
   "source": [
    "Backward Stepwise Selection"
   ],
   "metadata": {
    "collapsed": false
   },
   "id": "73c24b9a7a9b6b7c"
  },
  {
   "cell_type": "code",
   "execution_count": null,
   "id": "f6f36def5f3f8de8",
   "metadata": {
    "collapsed": false,
    "ExecuteTime": {
     "start_time": "2023-10-25T18:39:53.007085500Z"
    }
   },
   "outputs": [],
   "source": [
    "bss_aic = ml.BackwardStepwiseSelection(model_criterion='AIC', feature_criterion='p_value')\n",
    "bss_bic = ml.BackwardStepwiseSelection(model_criterion='BIC', feature_criterion='p_value')\n",
    "bss_pseudo_R = ml.BackwardStepwiseSelection(model_criterion='pseudo_R_square', feature_criterion='p_value') "
   ]
  },
  {
   "cell_type": "markdown",
   "source": [
    "Lasso Logistic Regression"
   ],
   "metadata": {
    "collapsed": false
   },
   "id": "8109889e319df1ad"
  },
  {
   "cell_type": "code",
   "execution_count": null,
   "id": "440868d440959582",
   "metadata": {
    "collapsed": false,
    "ExecuteTime": {
     "end_time": "2023-10-25T18:39:53.016086100Z",
     "start_time": "2023-10-25T18:39:53.009088500Z"
    }
   },
   "outputs": [],
   "source": [
    "lasso = ml.Lasso()"
   ]
  },
  {
   "cell_type": "markdown",
   "source": [
    "Cross Validation"
   ],
   "metadata": {
    "collapsed": false
   },
   "id": "5265746f13513515"
  },
  {
   "cell_type": "code",
   "execution_count": null,
   "id": "2b500f4e0c8323b7",
   "metadata": {
    "collapsed": false,
    "ExecuteTime": {
     "start_time": "2023-10-25T18:39:53.014087800Z"
    }
   },
   "outputs": [],
   "source": [
    "cross_val = ml.CrossValidation()"
   ]
  },
  {
   "cell_type": "markdown",
   "source": [
    "Feature Permutation"
   ],
   "metadata": {
    "collapsed": false
   },
   "id": "cf35937cef1d83db"
  },
  {
   "cell_type": "code",
   "execution_count": null,
   "id": "f70e72dac014d7ed",
   "metadata": {
    "collapsed": false,
    "ExecuteTime": {
     "start_time": "2023-10-25T18:39:53.016086100Z"
    }
   },
   "outputs": [],
   "source": [
    "feature_perm = ml.FeaturePermutation()"
   ]
  },
  {
   "cell_type": "markdown",
   "source": [
    "Brute Force"
   ],
   "metadata": {
    "collapsed": false
   },
   "id": "e469e0b933f32ea8"
  },
  {
   "cell_type": "code",
   "execution_count": null,
   "outputs": [],
   "source": [
    "brute_force = ml.BruteForce(criterion_val=0.5)"
   ],
   "metadata": {
    "collapsed": false,
    "ExecuteTime": {
     "start_time": "2023-10-25T18:39:53.017086Z"
    }
   },
   "id": "e923f604c60ba108"
  },
  {
   "cell_type": "markdown",
   "source": [
    "## Group datasets by dataset number into lists"
   ],
   "metadata": {
    "collapsed": false
   },
   "id": "e03c702bb2c0c153"
  },
  {
   "cell_type": "code",
   "execution_count": null,
   "outputs": [],
   "source": [],
   "metadata": {
    "collapsed": false,
    "ExecuteTime": {
     "start_time": "2023-10-25T18:39:53.019084600Z"
    }
   },
   "id": "c4ac799a5bd55a1e"
  },
  {
   "cell_type": "code",
   "execution_count": null,
   "outputs": [],
   "source": [
    "end = time.time()\n",
    "print(f\"Evaluation exec time: {end - start}\")"
   ],
   "metadata": {
    "collapsed": false,
    "ExecuteTime": {
     "start_time": "2023-10-25T18:39:53.020085900Z"
    }
   },
   "id": "b87e993f9aa7d23e"
  },
  {
   "cell_type": "code",
   "execution_count": null,
   "outputs": [],
   "source": [],
   "metadata": {
    "collapsed": false,
    "ExecuteTime": {
     "start_time": "2023-10-25T18:39:53.021086900Z"
    }
   },
   "id": "aa83e4a7e3b89332"
  }
 ],
 "metadata": {
  "kernelspec": {
   "display_name": "Python 3 (ipykernel)",
   "language": "python",
   "name": "python3"
  },
  "language_info": {
   "codemirror_mode": {
    "name": "ipython",
    "version": 3
   },
   "file_extension": ".py",
   "mimetype": "text/x-python",
   "name": "python",
   "nbconvert_exporter": "python",
   "pygments_lexer": "ipython3",
   "version": "3.9.13"
  }
 },
 "nbformat": 4,
 "nbformat_minor": 5
}
